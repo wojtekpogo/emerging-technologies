{
 "cells": [
  {
   "cell_type": "markdown",
   "id": "c73d2469-4df0-4775-ac77-f9a24612c687",
   "metadata": {},
   "source": [
    "# Support Vector Machine"
   ]
  },
  {
   "cell_type": "markdown",
   "id": "f868daea-fb51-44dd-b4d3-15620c7816d7",
   "metadata": {},
   "source": [
    "*The objective of the support vector machine algorithm is to find a hyperplane in an N-dimensional space(**N** — the number of features) that distinctly classifies the data points.*[[2](#section3)]"
   ]
  },
  {
   "cell_type": "markdown",
   "id": "d7dfaccf-80e8-41b0-afdd-0b33402b8d83",
   "metadata": {},
   "source": [
    "**Advantages**:\n",
    "- Effective in high dimensional spaces and where number of dimensions > number of samples\n",
    "- Memory Efficient\n",
    "- Different Kernel functions can be specified\n",
    "**Disadvantages**:\n",
    "- Doesn't provide probability estimates[[3](#section4)]"
   ]
  },
  {
   "cell_type": "markdown",
   "id": "33c37057-b146-4039-aa1e-7caf7b5ef37e",
   "metadata": {},
   "source": [
    "SVM constructs a *hyperplane* or set of *hyperplanes* in a high- or infinite-dimensional space, which can be used for **classification**, **regression**, or other tasks like **outliers detection**.[[4](#section5)]"
   ]
  },
  {
   "cell_type": "markdown",
   "id": "aa64012b-e991-411e-8539-ebca8722370b",
   "metadata": {},
   "source": [
    "<img src=\"gif.gif\" width=\"750\" align=\"center\">"
   ]
  },
  {
   "cell_type": "markdown",
   "id": "5a3f9ff4-ada1-4897-98c4-11d4ecd8f9de",
   "metadata": {},
   "source": [
    "*While there could be multiple hyperplanes, SVM tries to find the one that best seperates 2 categories.*"
   ]
  },
  {
   "cell_type": "markdown",
   "id": "73da5c6d-bd86-437a-ab59-6658e1e239f7",
   "metadata": {},
   "source": [
    "more info here"
   ]
  },
  {
   "cell_type": "markdown",
   "id": "47fa8340-c21e-478d-b347-d9cd023fb35a",
   "metadata": {},
   "source": [
    "<a id=\"reference\"></a>"
   ]
  },
  {
   "cell_type": "markdown",
   "id": "86b043c0-fdeb-4d35-b189-ab032010df24",
   "metadata": {},
   "source": [
    "\n"
   ]
  },
  {
   "cell_type": "markdown",
   "id": "b28c22fd-6669-46b6-916d-f76c83cc5155",
   "metadata": {},
   "source": [
    "## Setup\n"
   ]
  },
  {
   "cell_type": "code",
   "execution_count": 216,
   "id": "be246c17-1a62-44fa-8e44-894c6821ed27",
   "metadata": {},
   "outputs": [],
   "source": [
    "import matplotlib.pyplot as plt\n",
    "import numpy as np\n",
    "from sklearn import svm, datasets\n",
    "from sklearn.model_selection import train_test_split\n",
    "import seaborn as sns"
   ]
  },
  {
   "cell_type": "markdown",
   "id": "66bccd92-400b-46bc-89ba-8e3b59625bb9",
   "metadata": {},
   "source": [
    "*In this classification I've used one of the datasets provided by sklearn library, more info can be found [here](https://scikit-learn.org/stable/modules/generated/sklearn.datasets.load_digits.html?highlight=digits#sklearn.datasets.load_digits).*"
   ]
  },
  {
   "cell_type": "markdown",
   "id": "3d902279-934b-4c44-94c1-2309cfb2f51d",
   "metadata": {},
   "source": [
    "## Uploading the Digits dataset"
   ]
  },
  {
   "cell_type": "code",
   "execution_count": 217,
   "id": "e6dfd91d-6bc0-498a-9e15-c95f768f21b9",
   "metadata": {},
   "outputs": [
    {
     "name": "stdout",
     "output_type": "stream",
     "text": [
      "Training shape:  (1198, 64)\n",
      "Test shape:      (599, 64)\n"
     ]
    }
   ],
   "source": [
    "# Loadging the datsaet. This dataset contains 1797 8-by-8 images of handwritten digits.\n",
    "digits = datasets.load_digits()\n",
    "images = digits.images.astype(np.int_)\n",
    "\n",
    "# Shuffle the data and split them into training and testing sets\n",
    "test_size = 1 / 3\n",
    "X_train, X_test, y_train, y_test, images_train, images_test \\\n",
    "    = train_test_split(X, y, images, test_size=test_size, shuffle=True,\n",
    "                       stratify=y, random_state=0)\n",
    "\n",
    "print('Training shape: ', X_train.shape)\n",
    "print('Test shape:     ', X_test.shape)"
   ]
  },
  {
   "cell_type": "code",
   "execution_count": 205,
   "id": "4247321a-e230-4945-8087-eb9f3ec851db",
   "metadata": {},
   "outputs": [
    {
     "name": "stdout",
     "output_type": "stream",
     "text": [
      "This particular dataset contains 1797 elements\n"
     ]
    }
   ],
   "source": [
    "# Check the amout of numbers in the dataset\n",
    "samples = len(digits.images)\n",
    "print(\"This particular dataset contains %d elements\"% samples)"
   ]
  },
  {
   "cell_type": "code",
   "execution_count": 198,
   "id": "5c580d33-d73a-4a2f-a5fb-15b3e99c9a13",
   "metadata": {},
   "outputs": [
    {
     "data": {
      "text/plain": [
       "array([[ 0.,  0.,  1.,  9., 15., 11.,  0.,  0.],\n",
       "       [ 0.,  0., 11., 16.,  8., 14.,  6.,  0.],\n",
       "       [ 0.,  2., 16., 10.,  0.,  9.,  9.,  0.],\n",
       "       [ 0.,  1., 16.,  4.,  0.,  8.,  8.,  0.],\n",
       "       [ 0.,  4., 16.,  4.,  0.,  8.,  8.,  0.],\n",
       "       [ 0.,  1., 16.,  5.,  1., 11.,  3.,  0.],\n",
       "       [ 0.,  0., 12., 12., 10., 10.,  0.,  0.],\n",
       "       [ 0.,  0.,  1., 10., 13.,  3.,  0.,  0.]])"
      ]
     },
     "execution_count": 198,
     "metadata": {},
     "output_type": "execute_result"
    }
   ],
   "source": [
    "digits.images[10]"
   ]
  },
  {
   "cell_type": "markdown",
   "id": "13ec822d-ee42-4bf5-bfd7-ace1b24ca1d0",
   "metadata": {},
   "source": [
    "*Here we can see that there are 64 numbers of input features, 8 rows and 8 columns*"
   ]
  },
  {
   "cell_type": "markdown",
   "id": "b58f3119-99d6-4dca-9448-eed435ff3ed4",
   "metadata": {},
   "source": [
    "## Visualize the data"
   ]
  },
  {
   "cell_type": "code",
   "execution_count": 199,
   "id": "bd49d02d-2a97-4a2e-afb5-b48ff6d6ca6f",
   "metadata": {},
   "outputs": [
    {
     "data": {
      "image/png": "[encoded data removed]",
      "text/plain": [
       "<Figure size 432x288 with 1 Axes>"
      ]
     },
     "metadata": {
      "needs_background": "light"
     },
     "output_type": "display_data"
    },
    {
     "data": {
      "image/png": "[encoded data removed]",
      "text/plain": [
       "<Figure size 432x288 with 1 Axes>"
      ]
     },
     "metadata": {
      "needs_background": "light"
     },
     "output_type": "display_data"
    },
    {
     "data": {
      "image/png": "[encoded data removed]",
      "text/plain": [
       "<Figure size 432x288 with 1 Axes>"
      ]
     },
     "metadata": {
      "needs_background": "light"
     },
     "output_type": "display_data"
    },
    {
     "data": {
      "image/png": "[encoded data removed]",
      "text/plain": [
       "<Figure size 432x288 with 1 Axes>"
      ]
     },
     "metadata": {
      "needs_background": "light"
     },
     "output_type": "display_data"
    }
   ],
   "source": [
    "for i in range(4):\n",
    "    plt.imshow(digits.images[i] , cmap = plt.cm.gray_r , interpolation = 'nearest')\n",
    "    plt.title(str(digits.target[i]))\n",
    "    plt.show()"
   ]
  },
  {
   "cell_type": "markdown",
   "id": "95fbe2dc-78d1-443f-974b-ba3ac1ab8cd6",
   "metadata": {},
   "source": [
    "## Displaying 10 sample digits along with the labels"
   ]
  },
  {
   "cell_type": "code",
   "execution_count": 200,
   "id": "be4e5806-9d82-4d0c-bd03-52c438707d0e",
   "metadata": {},
   "outputs": [
    {
     "data": {
      "image/png": "[encoded data removed]",
      "text/plain": [
       "<Figure size 432x432 with 10 Axes>"
      ]
     },
     "metadata": {
      "needs_background": "light"
     },
     "output_type": "display_data"
    }
   ],
   "source": [
    "images_and_labels = list(zip(digits.images, digits.target))\n",
    "plt.figure(figsize=(6,6))\n",
    "for index, (image,label) in enumerate(images_and_labels[:10]):\n",
    "    plt.subplot(3,5,index+1)\n",
    "    plt.axis('off')\n",
    "    plt.imshow(image,cmap=plt.cm.gray_r, interpolation='nearest')\n",
    "    plt.title('%i' % label)"
   ]
  },
  {
   "cell_type": "code",
   "execution_count": 201,
   "id": "76b9244c-3cf4-4496-93f1-871e68f90628",
   "metadata": {},
   "outputs": [
    {
     "data": {
      "image/png": "[encoded data removed]",
      "text/plain": [
       "<Figure size 720x720 with 64 Axes>"
      ]
     },
     "metadata": {
      "needs_background": "light"
     },
     "output_type": "display_data"
    }
   ],
   "source": [
    "n_rows = 8\n",
    "n_cols = 8\n",
    "\n",
    "fig, ax = plt.subplots(nrows=n_rows, ncols=n_cols, figsize=(10, 10))\n",
    "k = 0\n",
    "for i, j in product(range(n_rows), range(n_cols)):\n",
    "    image = images_train[n_cols * i + j]\n",
    "    ax[i, j].imshow(image, cmap='binary', interpolation='none')\n",
    "    ax[i, j].axis('off')\n",
    "\n",
    "plt.show()\n",
    "plt.close()"
   ]
  },
  {
   "cell_type": "code",
   "execution_count": 218,
   "id": "ed43508e-322d-4dac-ab11-e473b67461c1",
   "metadata": {},
   "outputs": [
    {
     "data": {
      "image/png": "[encoded data removed]",
      "text/plain": [
       "<Figure size 288x288 with 1 Axes>"
      ]
     },
     "metadata": {},
     "output_type": "display_data"
    }
   ],
   "source": [
    "plt.figure(figsize=(4, 4))\n",
    "index = 0\n",
    "digit = images_train[index]\n",
    "sns.heatmap(digit, vmin=0, vmax=15, cmap='binary', annot=True, fmt='d',\n",
    "            annot_kws={'fontsize': 12}, cbar=False, linewidths=1,\n",
    "            linecolor='k')\n",
    "plt.xticks([])\n",
    "plt.yticks([])\n",
    "plt.title('Label: %d' % y_train[index], fontsize=14)\n",
    "plt.tight_layout()\n",
    "plt.show()\n",
    "plt.close()"
   ]
  },
  {
   "cell_type": "markdown",
   "id": "d5bd5bbc-7dc6-49af-b969-6355b81db91a",
   "metadata": {},
   "source": [
    "*Essentially, each digit is just an 8 by 8 grid of integers between 0 - 16*"
   ]
  },
  {
   "cell_type": "code",
   "execution_count": 168,
   "id": "071aaddb-b517-40c7-85dc-3ef74c09090a",
   "metadata": {},
   "outputs": [
    {
     "data": {
      "image/png": "[encoded data removed]",
      "text/plain": [
       "<Figure size 432x288 with 2 Axes>"
      ]
     },
     "metadata": {
      "needs_background": "light"
     },
     "output_type": "display_data"
    }
   ],
   "source": [
    "from sklearn import metrics\n",
    "seaborn.heatmap(metrics.confusion_matrix(y_test,y_pred), cmap='coolwarm', linewidths=2)\n",
    "plt.xlabel('True Labels')\n",
    "plt.ylabel('Predicted Labels')\n",
    "plt.show()"
   ]
  },
  {
   "cell_type": "markdown",
   "id": "2390bfba-a09a-4a0d-b640-ca2e37855e94",
   "metadata": {},
   "source": [
    "*Confusion matrix helps us to visualize differences between actuals and predictions*"
   ]
  },
  {
   "cell_type": "markdown",
   "id": "6c08e359-e318-438d-82b4-818fcf3dac55",
   "metadata": {},
   "source": [
    "\n",
    "## Splitting the data into input features(pixel) and output target values"
   ]
  },
  {
   "cell_type": "code",
   "execution_count": 179,
   "id": "5c8c74b5-c85d-4e7e-8e2b-86aeebc6b7e7",
   "metadata": {},
   "outputs": [],
   "source": [
    "X = digits.images.reshape((samples, -1))\n",
    "y= digits.target"
   ]
  },
  {
   "cell_type": "markdown",
   "id": "cf45bcdd-e877-48d5-bab0-5d6bad09b582",
   "metadata": {},
   "source": [
    "## Train & Test"
   ]
  },
  {
   "cell_type": "code",
   "execution_count": 180,
   "id": "6309df4c-2330-43ae-b073-702def75a756",
   "metadata": {},
   "outputs": [
    {
     "name": "stdout",
     "output_type": "stream",
     "text": [
      "(1347, 64)\n",
      "(450, 64)\n"
     ]
    }
   ],
   "source": [
    "X_train,X_test,y_train,y_test = train_test_split(X,y) # This function splits our dataset, previously we've had 1797 elements in the dataset.\n",
    "print(X_train.shape)\n",
    "print(X_test.shape)"
   ]
  },
  {
   "cell_type": "markdown",
   "id": "7b5670d4-e79e-4265-9e7a-db73d2d79ebc",
   "metadata": {},
   "source": [
    "*Now our data is divided into training set containing **1347** elements and test set which contains **450** elements*"
   ]
  },
  {
   "cell_type": "markdown",
   "id": "2867588e-d35c-426d-9c6f-66692de2b3d3",
   "metadata": {},
   "source": [
    "## Support Vector Classifier Model with Linear Kernel"
   ]
  },
  {
   "cell_type": "code",
   "execution_count": 181,
   "id": "b3619d28-c706-45e8-9d66-8f1d20eb18df",
   "metadata": {},
   "outputs": [],
   "source": [
    "linear_model = svm.SVC(kernel='linear', degree=3, gamma='scale')\n",
    "linear_model.fit(X_train,y_train)\n",
    "# Predict\n",
    "y_pred = linear_model.predict(X_test)"
   ]
  },
  {
   "cell_type": "markdown",
   "id": "8a594b0f-60be-4e67-8743-aacb51fa9dde",
   "metadata": {},
   "source": [
    "## Checking the accuracy"
   ]
  },
  {
   "cell_type": "code",
   "execution_count": 184,
   "id": "582d04f4-3a5a-423f-a22d-f3d924f80170",
   "metadata": {},
   "outputs": [],
   "source": [
    "accuracy = linear_model.score(X_test,y_test)"
   ]
  },
  {
   "cell_type": "code",
   "execution_count": 192,
   "id": "dfaf5978-8f97-4a51-b91d-f8c055c7915b",
   "metadata": {},
   "outputs": [
    {
     "name": "stdout",
     "output_type": "stream",
     "text": [
      "98% accuracy, our model is performing really good, let's see if we can do better\n"
     ]
    }
   ],
   "source": [
    "print(f\"{accuracy:.0%} accuracy, our model is performing really good, let's see if we can do better\")"
   ]
  },
  {
   "cell_type": "markdown",
   "id": "33bde059-9cd8-45e5-9a9f-3a782316bff8",
   "metadata": {},
   "source": [
    "## Creating another model with RBF Kernel and checking its accuracy"
   ]
  },
  {
   "cell_type": "code",
   "execution_count": 194,
   "id": "8f942ed9-24f9-4234-b11c-23fb76337efe",
   "metadata": {},
   "outputs": [
    {
     "name": "stdout",
     "output_type": "stream",
     "text": [
      "99% accuracy, by chaning the kernel, we have increased the accuracy\n"
     ]
    }
   ],
   "source": [
    "RBF_model = svm.SVC(kernel='rbf', degree=3, gamma='scale')\n",
    "RBF_model.fit(X_train,y_train)\n",
    "#Predict\n",
    "y_pred2 = RBF_model.predict(X_test)\n",
    "accuracy_2 = RBF_model.score(X_test,y_test)\n",
    "print(f\"{accuracy_2:.0%} accuracy, by chaning the kernel, we have increased the accuracy\")"
   ]
  },
  {
   "cell_type": "markdown",
   "id": "ec10844a-c9b2-440a-8ac9-0c4ec31c2d32",
   "metadata": {},
   "source": []
  },
  {
   "cell_type": "markdown",
   "id": "4629969f-2776-4963-be50-6e577d3df40e",
   "metadata": {},
   "source": [
    "# End SVM\n",
    "***"
   ]
  },
  {
   "cell_type": "markdown",
   "id": "3f396cea-3aa2-4d4b-8506-c0313baafb5e",
   "metadata": {},
   "source": [
    "# Quantile Regression\n",
    "***"
   ]
  },
  {
   "cell_type": "markdown",
   "id": "95e3a55d-9063-48b2-b278-b69b9bdf27db",
   "metadata": {},
   "source": [
    "### *The goal is to predict the delivery time based on the distance of house from the store.*"
   ]
  },
  {
   "cell_type": "markdown",
   "id": "1cad5133-318f-45ca-aeee-567ca2359233",
   "metadata": {},
   "source": [
    "### Setup\n",
    "***"
   ]
  },
  {
   "cell_type": "code",
   "execution_count": 2,
   "id": "755f47e1-4e26-49c8-b48c-33e7d23785b7",
   "metadata": {},
   "outputs": [],
   "source": [
    "from sklearn.datasets import make_regression\n",
    "import pandas as pd\n",
    "import matplotlib.pyplot as plt\n",
    "import seaborn as sns\n",
    "import numpy as np\n",
    "from sklearn.model_selection import train_test_split\n",
    "import statsmodels.api as sm # statsmodels is a Python module that provides classes and functions for the estimation of many different statistical models, as well as for conducting statistical tests, and statistical data exploration\n",
    "import statsmodels.formula.api as smf"
   ]
  },
  {
   "cell_type": "code",
   "execution_count": 34,
   "id": "a5cbae83-1c01-46e2-9bd6-7e384bc7425f",
   "metadata": {},
   "outputs": [
    {
     "data": {
      "text/html": [
       "<div>\n",
       "<style scoped>\n",
       "    .dataframe tbody tr th:only-of-type {\n",
       "        vertical-align: middle;\n",
       "    }\n",
       "\n",
       "    .dataframe tbody tr th {\n",
       "        vertical-align: top;\n",
       "    }\n",
       "\n",
       "    .dataframe thead th {\n",
       "        text-align: right;\n",
       "    }\n",
       "</style>\n",
       "<table border=\"1\" class=\"dataframe\">\n",
       "  <thead>\n",
       "    <tr style=\"text-align: right;\">\n",
       "      <th></th>\n",
       "      <th>income</th>\n",
       "      <th>foodexp</th>\n",
       "    </tr>\n",
       "  </thead>\n",
       "  <tbody>\n",
       "    <tr>\n",
       "      <th>0</th>\n",
       "      <td>420.157651</td>\n",
       "      <td>255.839425</td>\n",
       "    </tr>\n",
       "    <tr>\n",
       "      <th>1</th>\n",
       "      <td>541.411707</td>\n",
       "      <td>310.958667</td>\n",
       "    </tr>\n",
       "    <tr>\n",
       "      <th>2</th>\n",
       "      <td>901.157457</td>\n",
       "      <td>485.680014</td>\n",
       "    </tr>\n",
       "    <tr>\n",
       "      <th>3</th>\n",
       "      <td>639.080229</td>\n",
       "      <td>402.997356</td>\n",
       "    </tr>\n",
       "    <tr>\n",
       "      <th>4</th>\n",
       "      <td>750.875606</td>\n",
       "      <td>495.560775</td>\n",
       "    </tr>\n",
       "  </tbody>\n",
       "</table>\n",
       "</div>"
      ],
      "text/plain": [
       "       income     foodexp\n",
       "0  420.157651  255.839425\n",
       "1  541.411707  310.958667\n",
       "2  901.157457  485.680014\n",
       "3  639.080229  402.997356\n",
       "4  750.875606  495.560775"
      ]
     },
     "execution_count": 34,
     "metadata": {},
     "output_type": "execute_result"
    }
   ],
   "source": [
    "data = sm.datasets.engel.load_pandas().data\n",
    "data.head()"
   ]
  },
  {
   "cell_type": "code",
   "execution_count": null,
   "id": "b187e230-7a56-4ce6-be4f-cd8a1dd82386",
   "metadata": {},
   "outputs": [],
   "source": []
  },
  {
   "cell_type": "code",
   "execution_count": null,
   "id": "0ae76dd3-8aa6-4e14-903a-d8e19479abf3",
   "metadata": {},
   "outputs": [],
   "source": []
  },
  {
   "cell_type": "code",
   "execution_count": null,
   "id": "0ddf16ee-f370-4d41-8c2b-8c3d98485899",
   "metadata": {},
   "outputs": [],
   "source": []
  },
  {
   "cell_type": "code",
   "execution_count": 17,
   "id": "5888c060-3e77-4a47-87c8-f9d9898e98ec",
   "metadata": {},
   "outputs": [],
   "source": [
    "X, y = make_regression(n_samples = 10000,\n",
    "                      n_features =1,\n",
    "                      n_informative =1,\n",
    "                      n_targets = 1,\n",
    "                      random_state = 7)\n",
    "\n",
    "Xs = pd.DataFrame(X, columns = ['distance'])\n",
    "ys = pd.DataFrame(y, columns= ['time'])\n",
    "\n",
    "Xs['distance'] = Xs['distance'].apply(lambda x: 10+2 * (x +np.random.normal(loc=1)))\n",
    "ys['time'] = ys['time'].apply(lambda x: 60+0.3 * (x +np.random.normal(loc=1)))"
   ]
  },
  {
   "cell_type": "code",
   "execution_count": 18,
   "id": "f5ba5d15-9029-4457-a068-6a5164e74482",
   "metadata": {},
   "outputs": [],
   "source": [
    "df = Xs.merge(ys, left_index=True, right_index = True)"
   ]
  },
  {
   "cell_type": "code",
   "execution_count": 19,
   "id": "4dfbba1d-c74d-4e3f-9fd3-ef17acb16a52",
   "metadata": {},
   "outputs": [
    {
     "data": {
      "text/html": [
       "<div>\n",
       "<style scoped>\n",
       "    .dataframe tbody tr th:only-of-type {\n",
       "        vertical-align: middle;\n",
       "    }\n",
       "\n",
       "    .dataframe tbody tr th {\n",
       "        vertical-align: top;\n",
       "    }\n",
       "\n",
       "    .dataframe thead th {\n",
       "        text-align: right;\n",
       "    }\n",
       "</style>\n",
       "<table border=\"1\" class=\"dataframe\">\n",
       "  <thead>\n",
       "    <tr style=\"text-align: right;\">\n",
       "      <th></th>\n",
       "      <th>distance</th>\n",
       "      <th>time</th>\n",
       "    </tr>\n",
       "  </thead>\n",
       "  <tbody>\n",
       "    <tr>\n",
       "      <th>count</th>\n",
       "      <td>10000.000000</td>\n",
       "      <td>10000.000000</td>\n",
       "    </tr>\n",
       "    <tr>\n",
       "      <th>mean</th>\n",
       "      <td>12.009806</td>\n",
       "      <td>60.287086</td>\n",
       "    </tr>\n",
       "    <tr>\n",
       "      <th>std</th>\n",
       "      <td>2.821881</td>\n",
       "      <td>1.779605</td>\n",
       "    </tr>\n",
       "    <tr>\n",
       "      <th>min</th>\n",
       "      <td>1.487109</td>\n",
       "      <td>53.800906</td>\n",
       "    </tr>\n",
       "    <tr>\n",
       "      <th>25%</th>\n",
       "      <td>10.102218</td>\n",
       "      <td>59.117551</td>\n",
       "    </tr>\n",
       "    <tr>\n",
       "      <th>50%</th>\n",
       "      <td>12.015585</td>\n",
       "      <td>60.279016</td>\n",
       "    </tr>\n",
       "    <tr>\n",
       "      <th>75%</th>\n",
       "      <td>13.894515</td>\n",
       "      <td>61.484750</td>\n",
       "    </tr>\n",
       "    <tr>\n",
       "      <th>max</th>\n",
       "      <td>23.793081</td>\n",
       "      <td>67.342804</td>\n",
       "    </tr>\n",
       "  </tbody>\n",
       "</table>\n",
       "</div>"
      ],
      "text/plain": [
       "           distance          time\n",
       "count  10000.000000  10000.000000\n",
       "mean      12.009806     60.287086\n",
       "std        2.821881      1.779605\n",
       "min        1.487109     53.800906\n",
       "25%       10.102218     59.117551\n",
       "50%       12.015585     60.279016\n",
       "75%       13.894515     61.484750\n",
       "max       23.793081     67.342804"
      ]
     },
     "execution_count": 19,
     "metadata": {},
     "output_type": "execute_result"
    }
   ],
   "source": [
    "df.describe()"
   ]
  },
  {
   "cell_type": "code",
   "execution_count": 21,
   "id": "c4c436b5-bf36-4328-bb6e-02e56cc76815",
   "metadata": {},
   "outputs": [],
   "source": [
    "train_df, test_df = train_test_split(df, test_size = 0.10, random_state = 7)"
   ]
  },
  {
   "cell_type": "code",
   "execution_count": 22,
   "id": "0a269730-73ef-4d7f-9f9f-6c023de39cb8",
   "metadata": {},
   "outputs": [],
   "source": [
    "X_train, y_train = train_df[['distance']], train_df[['time']]\n",
    "X_test, y_test = test_df[['distance']], test_df[['time']]"
   ]
  },
  {
   "cell_type": "markdown",
   "id": "ff29a2ee-b81e-49f1-b8c3-b1ebfbe51d83",
   "metadata": {},
   "source": [
    "## Visualize the Data"
   ]
  },
  {
   "cell_type": "code",
   "execution_count": 30,
   "id": "d4c3f11c-d3a2-49ab-b438-27c0c6396061",
   "metadata": {},
   "outputs": [
    {
     "data": {
      "image/png": "[encoded data removed]",
      "text/plain": [
       "<Figure size 600x400 with 1 Axes>"
      ]
     },
     "metadata": {
      "needs_background": "light"
     },
     "output_type": "display_data"
    }
   ],
   "source": [
    "plt.rcParams.update({'font.size': 10, 'figure.dpi':100})\n",
    "sns.scatterplot(data=test_df, x='distance', y ='time', marker='+', color='green')\n",
    "plt.grid(linestyle='-', linewidth=0.2)"
   ]
  },
  {
   "cell_type": "markdown",
   "id": "3e82554d-787e-419e-92a4-b03eb5815606",
   "metadata": {},
   "source": [
    "*By changing the marker value we can manipulate the symbol which will occur on the plot, for more info see [here](https://matplotlib.org/stable/api/markers_api.html#module-matplotlib.markers).*"
   ]
  },
  {
   "cell_type": "code",
   "execution_count": null,
   "id": "964b7cd9-3c78-48e5-a0b3-2fd82828fe3b",
   "metadata": {},
   "outputs": [],
   "source": []
  },
  {
   "cell_type": "code",
   "execution_count": null,
   "id": "38cef171-ce3d-42f5-81c0-bf039a65fb7f",
   "metadata": {},
   "outputs": [],
   "source": []
  },
  {
   "cell_type": "code",
   "execution_count": null,
   "id": "d0746842-9edb-4bab-9ac6-db1a2de94ad1",
   "metadata": {},
   "outputs": [],
   "source": []
  },
  {
   "cell_type": "code",
   "execution_count": null,
   "id": "45ace188-e377-4fbc-9ace-e3d089b1a9ca",
   "metadata": {},
   "outputs": [],
   "source": []
  },
  {
   "cell_type": "code",
   "execution_count": null,
   "id": "2efb30a9-e749-43b1-b18f-7ec8434595b3",
   "metadata": {},
   "outputs": [],
   "source": []
  },
  {
   "cell_type": "code",
   "execution_count": null,
   "id": "e5dea33c-b34b-4b38-b291-fbbf2f76ffc7",
   "metadata": {},
   "outputs": [],
   "source": []
  },
  {
   "cell_type": "markdown",
   "id": "02ff4fc5-ae6b-4309-aaaa-e28fbb17c376",
   "metadata": {},
   "source": [
    "# Random Forest\n",
    "***"
   ]
  },
  {
   "cell_type": "markdown",
   "id": "f3d2871f-0690-41f2-986c-6c3096a8895b",
   "metadata": {},
   "source": [
    "*Random Forest[[1](#section2)] is a supervised learning technique, it can be used for both Classification and Regression problems in Machine Learning, based on the concept of [ensemble learning](https://en.wikipedia.org/wiki/Ensemble_learning)*\n",
    "\n",
    "**Benefits of Random Forest Algorithm**\n",
    "- takes less training time compared to other algorithms\n",
    "- predicts output with high accuracy, even for large datasets\n",
    "- maintains accuracy even when large amout of data is missing\n"
   ]
  },
  {
   "cell_type": "markdown",
   "id": "d823c426-36c5-4978-80eb-8577747cac21",
   "metadata": {},
   "source": [
    "### *The goal is to predict the quality of the wine*"
   ]
  },
  {
   "cell_type": "markdown",
   "id": "9047fcf2-76e9-497b-b9d5-0e225a8d6dea",
   "metadata": {},
   "source": [
    "*Dataset taken from [here](https://archive.ics.uci.edu/ml/datasets/Wine)*"
   ]
  },
  {
   "cell_type": "markdown",
   "id": "b0f5eaa4-b432-4f06-8d96-2a1fcab406e5",
   "metadata": {},
   "source": [
    "### Setup\n"
   ]
  },
  {
   "cell_type": "code",
   "execution_count": 19,
   "id": "9695357a-724e-4615-b1f8-ebf21f89734e",
   "metadata": {},
   "outputs": [],
   "source": [
    "import pandas as pd # Data Frames\n",
    "import numpy as np\n",
    "import matplotlib.pyplot as plt # Used to visualize the data in 2D graph\n",
    "import seaborn as sns # Open-source Python library built on top of matplotlib.Used for data visualization and exploratory data analysis\n",
    "from sklearn.model_selection import train_test_split\n",
    "from sklearn.ensemble import RandomForestClassifier\n",
    "from sklearn.metrics import accuracy_score\n"
   ]
  },
  {
   "cell_type": "markdown",
   "id": "d4aaf9c4-00ef-406d-9a51-ec8275b7e02a",
   "metadata": {},
   "source": [
    "### Uploading the Red Wine Quality Dataset"
   ]
  },
  {
   "cell_type": "code",
   "execution_count": 20,
   "id": "c888b642-afe5-43a8-8dec-1ee014fc506d",
   "metadata": {},
   "outputs": [],
   "source": [
    "# Loading the wine data set\n",
    "df = pd.read_csv(\"./winequality-red.csv\", sep=';');\n"
   ]
  },
  {
   "cell_type": "code",
   "execution_count": 21,
   "id": "a08ad0a3-f638-464c-bdc9-816998cb0206",
   "metadata": {},
   "outputs": [
    {
     "data": {
      "text/plain": [
       "(1599, 12)"
      ]
     },
     "execution_count": 21,
     "metadata": {},
     "output_type": "execute_result"
    }
   ],
   "source": [
    "df.shape"
   ]
  },
  {
   "cell_type": "code",
   "execution_count": 22,
   "id": "1b7e3650-340e-4a5d-a18d-adf724486567",
   "metadata": {},
   "outputs": [
    {
     "data": {
      "text/html": [
       "<div>\n",
       "<style scoped>\n",
       "    .dataframe tbody tr th:only-of-type {\n",
       "        vertical-align: middle;\n",
       "    }\n",
       "\n",
       "    .dataframe tbody tr th {\n",
       "        vertical-align: top;\n",
       "    }\n",
       "\n",
       "    .dataframe thead th {\n",
       "        text-align: right;\n",
       "    }\n",
       "</style>\n",
       "<table border=\"1\" class=\"dataframe\">\n",
       "  <thead>\n",
       "    <tr style=\"text-align: right;\">\n",
       "      <th></th>\n",
       "      <th>fixed acidity</th>\n",
       "      <th>volatile acidity</th>\n",
       "      <th>citric acid</th>\n",
       "      <th>residual sugar</th>\n",
       "      <th>chlorides</th>\n",
       "      <th>free sulfur dioxide</th>\n",
       "      <th>total sulfur dioxide</th>\n",
       "      <th>density</th>\n",
       "      <th>pH</th>\n",
       "      <th>sulphates</th>\n",
       "      <th>alcohol</th>\n",
       "      <th>quality</th>\n",
       "    </tr>\n",
       "  </thead>\n",
       "  <tbody>\n",
       "    <tr>\n",
       "      <th>0</th>\n",
       "      <td>7.4</td>\n",
       "      <td>0.70</td>\n",
       "      <td>0.00</td>\n",
       "      <td>1.9</td>\n",
       "      <td>0.076</td>\n",
       "      <td>11.0</td>\n",
       "      <td>34.0</td>\n",
       "      <td>0.9978</td>\n",
       "      <td>3.51</td>\n",
       "      <td>0.56</td>\n",
       "      <td>9.4</td>\n",
       "      <td>5</td>\n",
       "    </tr>\n",
       "    <tr>\n",
       "      <th>1</th>\n",
       "      <td>7.8</td>\n",
       "      <td>0.88</td>\n",
       "      <td>0.00</td>\n",
       "      <td>2.6</td>\n",
       "      <td>0.098</td>\n",
       "      <td>25.0</td>\n",
       "      <td>67.0</td>\n",
       "      <td>0.9968</td>\n",
       "      <td>3.20</td>\n",
       "      <td>0.68</td>\n",
       "      <td>9.8</td>\n",
       "      <td>5</td>\n",
       "    </tr>\n",
       "    <tr>\n",
       "      <th>2</th>\n",
       "      <td>7.8</td>\n",
       "      <td>0.76</td>\n",
       "      <td>0.04</td>\n",
       "      <td>2.3</td>\n",
       "      <td>0.092</td>\n",
       "      <td>15.0</td>\n",
       "      <td>54.0</td>\n",
       "      <td>0.9970</td>\n",
       "      <td>3.26</td>\n",
       "      <td>0.65</td>\n",
       "      <td>9.8</td>\n",
       "      <td>5</td>\n",
       "    </tr>\n",
       "    <tr>\n",
       "      <th>3</th>\n",
       "      <td>11.2</td>\n",
       "      <td>0.28</td>\n",
       "      <td>0.56</td>\n",
       "      <td>1.9</td>\n",
       "      <td>0.075</td>\n",
       "      <td>17.0</td>\n",
       "      <td>60.0</td>\n",
       "      <td>0.9980</td>\n",
       "      <td>3.16</td>\n",
       "      <td>0.58</td>\n",
       "      <td>9.8</td>\n",
       "      <td>6</td>\n",
       "    </tr>\n",
       "    <tr>\n",
       "      <th>4</th>\n",
       "      <td>7.4</td>\n",
       "      <td>0.70</td>\n",
       "      <td>0.00</td>\n",
       "      <td>1.9</td>\n",
       "      <td>0.076</td>\n",
       "      <td>11.0</td>\n",
       "      <td>34.0</td>\n",
       "      <td>0.9978</td>\n",
       "      <td>3.51</td>\n",
       "      <td>0.56</td>\n",
       "      <td>9.4</td>\n",
       "      <td>5</td>\n",
       "    </tr>\n",
       "  </tbody>\n",
       "</table>\n",
       "</div>"
      ],
      "text/plain": [
       "   fixed acidity  volatile acidity  citric acid  residual sugar  chlorides  \\\n",
       "0            7.4              0.70         0.00             1.9      0.076   \n",
       "1            7.8              0.88         0.00             2.6      0.098   \n",
       "2            7.8              0.76         0.04             2.3      0.092   \n",
       "3           11.2              0.28         0.56             1.9      0.075   \n",
       "4            7.4              0.70         0.00             1.9      0.076   \n",
       "\n",
       "   free sulfur dioxide  total sulfur dioxide  density    pH  sulphates  \\\n",
       "0                 11.0                  34.0   0.9978  3.51       0.56   \n",
       "1                 25.0                  67.0   0.9968  3.20       0.68   \n",
       "2                 15.0                  54.0   0.9970  3.26       0.65   \n",
       "3                 17.0                  60.0   0.9980  3.16       0.58   \n",
       "4                 11.0                  34.0   0.9978  3.51       0.56   \n",
       "\n",
       "   alcohol  quality  \n",
       "0      9.4        5  \n",
       "1      9.8        5  \n",
       "2      9.8        5  \n",
       "3      9.8        6  \n",
       "4      9.4        5  "
      ]
     },
     "execution_count": 22,
     "metadata": {},
     "output_type": "execute_result"
    }
   ],
   "source": [
    "# Displaying first 5 rows of the dataset\n",
    "df.head()"
   ]
  },
  {
   "cell_type": "markdown",
   "id": "08974eae-2abd-40c7-8daf-1a1711b017e5",
   "metadata": {},
   "source": [
    "### Checking if dataset contains any missing values"
   ]
  },
  {
   "cell_type": "code",
   "execution_count": 23,
   "id": "6a1b9c43-cb57-4c5a-86ca-a2ec5b59bace",
   "metadata": {},
   "outputs": [
    {
     "data": {
      "text/plain": [
       "fixed acidity           0\n",
       "volatile acidity        0\n",
       "citric acid             0\n",
       "residual sugar          0\n",
       "chlorides               0\n",
       "free sulfur dioxide     0\n",
       "total sulfur dioxide    0\n",
       "density                 0\n",
       "pH                      0\n",
       "sulphates               0\n",
       "alcohol                 0\n",
       "quality                 0\n",
       "dtype: int64"
      ]
     },
     "execution_count": 23,
     "metadata": {},
     "output_type": "execute_result"
    }
   ],
   "source": [
    "df.isnull().sum()"
   ]
  },
  {
   "cell_type": "markdown",
   "id": "8ca55fef-82c9-4b99-b517-a67bba40ed8b",
   "metadata": {},
   "source": [
    "*As we can see, this particular dataset doesn't contain any missing values so we can proceed with the code*"
   ]
  },
  {
   "cell_type": "markdown",
   "id": "aad96ee5-183f-4704-a0df-04171c5aa31d",
   "metadata": {},
   "source": [
    "### Data Analysis and Visualization for better data understanding"
   ]
  },
  {
   "cell_type": "code",
   "execution_count": 24,
   "id": "f0048274-8fae-4799-b2ac-61703e89fc2b",
   "metadata": {},
   "outputs": [
    {
     "data": {
      "text/html": [
       "<div>\n",
       "<style scoped>\n",
       "    .dataframe tbody tr th:only-of-type {\n",
       "        vertical-align: middle;\n",
       "    }\n",
       "\n",
       "    .dataframe tbody tr th {\n",
       "        vertical-align: top;\n",
       "    }\n",
       "\n",
       "    .dataframe thead th {\n",
       "        text-align: right;\n",
       "    }\n",
       "</style>\n",
       "<table border=\"1\" class=\"dataframe\">\n",
       "  <thead>\n",
       "    <tr style=\"text-align: right;\">\n",
       "      <th></th>\n",
       "      <th>fixed acidity</th>\n",
       "      <th>volatile acidity</th>\n",
       "      <th>citric acid</th>\n",
       "      <th>residual sugar</th>\n",
       "      <th>chlorides</th>\n",
       "      <th>free sulfur dioxide</th>\n",
       "      <th>total sulfur dioxide</th>\n",
       "      <th>density</th>\n",
       "      <th>pH</th>\n",
       "      <th>sulphates</th>\n",
       "      <th>alcohol</th>\n",
       "      <th>quality</th>\n",
       "    </tr>\n",
       "  </thead>\n",
       "  <tbody>\n",
       "    <tr>\n",
       "      <th>count</th>\n",
       "      <td>1599.000000</td>\n",
       "      <td>1599.000000</td>\n",
       "      <td>1599.000000</td>\n",
       "      <td>1599.000000</td>\n",
       "      <td>1599.000000</td>\n",
       "      <td>1599.000000</td>\n",
       "      <td>1599.000000</td>\n",
       "      <td>1599.000000</td>\n",
       "      <td>1599.000000</td>\n",
       "      <td>1599.000000</td>\n",
       "      <td>1599.000000</td>\n",
       "      <td>1599.000000</td>\n",
       "    </tr>\n",
       "    <tr>\n",
       "      <th>mean</th>\n",
       "      <td>8.319637</td>\n",
       "      <td>0.527821</td>\n",
       "      <td>0.270976</td>\n",
       "      <td>2.538806</td>\n",
       "      <td>0.087467</td>\n",
       "      <td>15.874922</td>\n",
       "      <td>46.467792</td>\n",
       "      <td>0.996747</td>\n",
       "      <td>3.311113</td>\n",
       "      <td>0.658149</td>\n",
       "      <td>10.422983</td>\n",
       "      <td>5.636023</td>\n",
       "    </tr>\n",
       "    <tr>\n",
       "      <th>std</th>\n",
       "      <td>1.741096</td>\n",
       "      <td>0.179060</td>\n",
       "      <td>0.194801</td>\n",
       "      <td>1.409928</td>\n",
       "      <td>0.047065</td>\n",
       "      <td>10.460157</td>\n",
       "      <td>32.895324</td>\n",
       "      <td>0.001887</td>\n",
       "      <td>0.154386</td>\n",
       "      <td>0.169507</td>\n",
       "      <td>1.065668</td>\n",
       "      <td>0.807569</td>\n",
       "    </tr>\n",
       "    <tr>\n",
       "      <th>min</th>\n",
       "      <td>4.600000</td>\n",
       "      <td>0.120000</td>\n",
       "      <td>0.000000</td>\n",
       "      <td>0.900000</td>\n",
       "      <td>0.012000</td>\n",
       "      <td>1.000000</td>\n",
       "      <td>6.000000</td>\n",
       "      <td>0.990070</td>\n",
       "      <td>2.740000</td>\n",
       "      <td>0.330000</td>\n",
       "      <td>8.400000</td>\n",
       "      <td>3.000000</td>\n",
       "    </tr>\n",
       "    <tr>\n",
       "      <th>25%</th>\n",
       "      <td>7.100000</td>\n",
       "      <td>0.390000</td>\n",
       "      <td>0.090000</td>\n",
       "      <td>1.900000</td>\n",
       "      <td>0.070000</td>\n",
       "      <td>7.000000</td>\n",
       "      <td>22.000000</td>\n",
       "      <td>0.995600</td>\n",
       "      <td>3.210000</td>\n",
       "      <td>0.550000</td>\n",
       "      <td>9.500000</td>\n",
       "      <td>5.000000</td>\n",
       "    </tr>\n",
       "    <tr>\n",
       "      <th>50%</th>\n",
       "      <td>7.900000</td>\n",
       "      <td>0.520000</td>\n",
       "      <td>0.260000</td>\n",
       "      <td>2.200000</td>\n",
       "      <td>0.079000</td>\n",
       "      <td>14.000000</td>\n",
       "      <td>38.000000</td>\n",
       "      <td>0.996750</td>\n",
       "      <td>3.310000</td>\n",
       "      <td>0.620000</td>\n",
       "      <td>10.200000</td>\n",
       "      <td>6.000000</td>\n",
       "    </tr>\n",
       "    <tr>\n",
       "      <th>75%</th>\n",
       "      <td>9.200000</td>\n",
       "      <td>0.640000</td>\n",
       "      <td>0.420000</td>\n",
       "      <td>2.600000</td>\n",
       "      <td>0.090000</td>\n",
       "      <td>21.000000</td>\n",
       "      <td>62.000000</td>\n",
       "      <td>0.997835</td>\n",
       "      <td>3.400000</td>\n",
       "      <td>0.730000</td>\n",
       "      <td>11.100000</td>\n",
       "      <td>6.000000</td>\n",
       "    </tr>\n",
       "    <tr>\n",
       "      <th>max</th>\n",
       "      <td>15.900000</td>\n",
       "      <td>1.580000</td>\n",
       "      <td>1.000000</td>\n",
       "      <td>15.500000</td>\n",
       "      <td>0.611000</td>\n",
       "      <td>72.000000</td>\n",
       "      <td>289.000000</td>\n",
       "      <td>1.003690</td>\n",
       "      <td>4.010000</td>\n",
       "      <td>2.000000</td>\n",
       "      <td>14.900000</td>\n",
       "      <td>8.000000</td>\n",
       "    </tr>\n",
       "  </tbody>\n",
       "</table>\n",
       "</div>"
      ],
      "text/plain": [
       "       fixed acidity  volatile acidity  citric acid  residual sugar  \\\n",
       "count    1599.000000       1599.000000  1599.000000     1599.000000   \n",
       "mean        8.319637          0.527821     0.270976        2.538806   \n",
       "std         1.741096          0.179060     0.194801        1.409928   \n",
       "min         4.600000          0.120000     0.000000        0.900000   \n",
       "25%         7.100000          0.390000     0.090000        1.900000   \n",
       "50%         7.900000          0.520000     0.260000        2.200000   \n",
       "75%         9.200000          0.640000     0.420000        2.600000   \n",
       "max        15.900000          1.580000     1.000000       15.500000   \n",
       "\n",
       "         chlorides  free sulfur dioxide  total sulfur dioxide      density  \\\n",
       "count  1599.000000          1599.000000           1599.000000  1599.000000   \n",
       "mean      0.087467            15.874922             46.467792     0.996747   \n",
       "std       0.047065            10.460157             32.895324     0.001887   \n",
       "min       0.012000             1.000000              6.000000     0.990070   \n",
       "25%       0.070000             7.000000             22.000000     0.995600   \n",
       "50%       0.079000            14.000000             38.000000     0.996750   \n",
       "75%       0.090000            21.000000             62.000000     0.997835   \n",
       "max       0.611000            72.000000            289.000000     1.003690   \n",
       "\n",
       "                pH    sulphates      alcohol      quality  \n",
       "count  1599.000000  1599.000000  1599.000000  1599.000000  \n",
       "mean      3.311113     0.658149    10.422983     5.636023  \n",
       "std       0.154386     0.169507     1.065668     0.807569  \n",
       "min       2.740000     0.330000     8.400000     3.000000  \n",
       "25%       3.210000     0.550000     9.500000     5.000000  \n",
       "50%       3.310000     0.620000    10.200000     6.000000  \n",
       "75%       3.400000     0.730000    11.100000     6.000000  \n",
       "max       4.010000     2.000000    14.900000     8.000000  "
      ]
     },
     "execution_count": 24,
     "metadata": {},
     "output_type": "execute_result"
    }
   ],
   "source": [
    "df.describe()"
   ]
  },
  {
   "cell_type": "code",
   "execution_count": 25,
   "id": "67b95b23-44e7-4c11-bd4d-d75c610d3a0f",
   "metadata": {},
   "outputs": [
    {
     "data": {
      "text/plain": [
       "<seaborn.axisgrid.FacetGrid at 0x1d7055a0280>"
      ]
     },
     "execution_count": 25,
     "metadata": {},
     "output_type": "execute_result"
    },
    {
     "data": {
      "image/png": "[encoded data removed]",
      "text/plain": [
       "<Figure size 360x360 with 1 Axes>"
      ]
     },
     "metadata": {
      "needs_background": "light"
     },
     "output_type": "display_data"
    }
   ],
   "source": [
    "sns.catplot(x='quality',data = df, kind = 'count')"
   ]
  },
  {
   "cell_type": "markdown",
   "id": "5ae3b444-5777-4d22-bfaf-10a4d3b7e0b4",
   "metadata": {},
   "source": [
    "*This particular dataset contains a lot of mid-range quality wines, we can see that the wines that dominates here are having 5-6 quality score*"
   ]
  },
  {
   "cell_type": "code",
   "execution_count": 26,
   "id": "b15eaad1-d358-4e24-95f8-729ce94d03e1",
   "metadata": {},
   "outputs": [
    {
     "data": {
      "text/plain": [
       "<AxesSubplot:xlabel='quality', ylabel='alcohol'>"
      ]
     },
     "execution_count": 26,
     "metadata": {},
     "output_type": "execute_result"
    },
    {
     "data": {
      "image/png": "[encoded data removed]",
      "text/plain": [
       "<Figure size 504x504 with 1 Axes>"
      ]
     },
     "metadata": {
      "needs_background": "light"
     },
     "output_type": "display_data"
    }
   ],
   "source": [
    "# Alcohol vs Quality\n",
    "plot = plt.figure(figsize = (7,7))\n",
    "sns.barplot(x='quality', y='alcohol', data = df)"
   ]
  },
  {
   "cell_type": "markdown",
   "id": "7fbc6b23-1790-4a09-a47a-5194532a3aba",
   "metadata": {},
   "source": [
    "*As we can notice from this bar plot is that better quality wines contains more alcohol*"
   ]
  },
  {
   "cell_type": "code",
   "execution_count": 27,
   "id": "0b214599-7450-4572-81ab-f3e231e95346",
   "metadata": {},
   "outputs": [
    {
     "data": {
      "text/plain": [
       "<AxesSubplot:xlabel='quality', ylabel='citric acid'>"
      ]
     },
     "execution_count": 27,
     "metadata": {},
     "output_type": "execute_result"
    },
    {
     "data": {
      "image/png": "[encoded data removed]",
      "text/plain": [
       "<Figure size 504x504 with 1 Axes>"
      ]
     },
     "metadata": {
      "needs_background": "light"
     },
     "output_type": "display_data"
    }
   ],
   "source": [
    "# Citric Acid vs Quality\n",
    "plot = plt.figure(figsize = (7,7))\n",
    "sns.barplot(x='quality', y='citric acid', data = df)"
   ]
  },
  {
   "cell_type": "markdown",
   "id": "6fc4ee51-ebb2-4e59-97d9-cdb4e1f0f343",
   "metadata": {},
   "source": [
    "*The higher citric acidity value, the better the wine quality*"
   ]
  },
  {
   "cell_type": "code",
   "execution_count": 31,
   "id": "6f9a51fd-119c-440a-b151-ef65b1245b1a",
   "metadata": {},
   "outputs": [
    {
     "data": {
      "image/png": "[encoded data removed]",
      "text/plain": [
       "<Figure size 1440x1440 with 12 Axes>"
      ]
     },
     "metadata": {
      "needs_background": "light"
     },
     "output_type": "display_data"
    }
   ],
   "source": [
    "%matplotlib inline\n",
    "df.hist(bins=10,figsize=(20,20), color=\"green\")\n",
    "# Display histogram\n",
    "plt.show()"
   ]
  },
  {
   "cell_type": "markdown",
   "id": "e4361a3b-5783-4c17-925b-5c9b36fb09db",
   "metadata": {},
   "source": [
    "### Correlation"
   ]
  },
  {
   "cell_type": "markdown",
   "id": "dbc66753-52e1-4a80-abf0-c10e55efbd7d",
   "metadata": {},
   "source": [
    "*Correlation is a relationship between two entities*"
   ]
  },
  {
   "cell_type": "code",
   "execution_count": 32,
   "id": "e07d1254-77a4-4ac4-b63c-7733bdd050a7",
   "metadata": {},
   "outputs": [],
   "source": [
    "correlation = df.corr()"
   ]
  },
  {
   "cell_type": "code",
   "execution_count": 33,
   "id": "ab4ceb4d-2f4d-48f2-9bdf-37d170e856c5",
   "metadata": {},
   "outputs": [
    {
     "data": {
      "text/plain": [
       "<AxesSubplot:>"
      ]
     },
     "execution_count": 33,
     "metadata": {},
     "output_type": "execute_result"
    },
    {
     "data": {
      "image/png": "[encoded data removed]",
      "text/plain": [
       "<Figure size 720x720 with 1 Axes>"
      ]
     },
     "metadata": {
      "needs_background": "light"
     },
     "output_type": "display_data"
    }
   ],
   "source": [
    "plt.figure(figsize=(10,10))\n",
    "sns.heatmap(correlation, cbar =False,square=True, fmt = '.1f', annot = True, annot_kws = {'size':8}, cmap = 'OrRd')"
   ]
  },
  {
   "cell_type": "markdown",
   "id": "93a69a93-0852-4c3b-8d1f-4c8669aa4ca9",
   "metadata": {},
   "source": [
    "*Heatmap shows the data which depends on two independent variables as a color coded image plot.*"
   ]
  },
  {
   "cell_type": "markdown",
   "id": "a5279ef7-da4a-4776-b62e-814c2de258d4",
   "metadata": {},
   "source": [
    "### Processing the Data"
   ]
  },
  {
   "cell_type": "markdown",
   "id": "d2205e88-04bf-48c9-9b4a-71cf20de91ba",
   "metadata": {},
   "source": [
    "*Our target value is 'quality', that's why we drop it, and feed the data model with the rest of the parameters*"
   ]
  },
  {
   "cell_type": "code",
   "execution_count": 34,
   "id": "a544b530-6a99-4688-b04f-d2f5f099db7b",
   "metadata": {},
   "outputs": [],
   "source": [
    "X = df.drop('quality',axis=1)"
   ]
  },
  {
   "cell_type": "markdown",
   "id": "3e5896d7-1e82-4790-8b5b-60dc40f78600",
   "metadata": {},
   "source": [
    "*We want to split the quality parameter on 'Good or 'Bad', let's say if the quality is > 7 the quality is 'Good'*"
   ]
  },
  {
   "cell_type": "code",
   "execution_count": 35,
   "id": "fde8234e-6fc2-4618-b641-94c42b5ceee6",
   "metadata": {},
   "outputs": [],
   "source": [
    "# Replace the quality value with numerical representation of 0 and 1 where 0 is Bad Quality and 1 is Good Quality\n",
    "Y = df['quality'].apply(lambda y_value: 1 if y_value >=7 else 0)"
   ]
  },
  {
   "cell_type": "markdown",
   "id": "4dac7778-d3e2-4a42-825d-3cb0e1e4a9a1",
   "metadata": {},
   "source": [
    "### Train & Test"
   ]
  },
  {
   "cell_type": "code",
   "execution_count": 36,
   "id": "d92c64e7-070c-42e7-ad2d-8b13cbcb0a93",
   "metadata": {},
   "outputs": [],
   "source": [
    "X_train, X_test, Y_train, Y_test = train_test_split(X,Y,test_size=0.33, random_state = 7)"
   ]
  },
  {
   "cell_type": "code",
   "execution_count": 37,
   "id": "ff50c50b-d82b-432d-9664-5a527f1bcdfd",
   "metadata": {},
   "outputs": [],
   "source": [
    "model = RandomForestClassifier()"
   ]
  },
  {
   "cell_type": "markdown",
   "id": "e8930328-51f3-49e4-80ba-08066f5c158e",
   "metadata": {},
   "source": [
    "*To train our model we need to use fit() function to fit the data points to the Random Forest Classifier*"
   ]
  },
  {
   "cell_type": "code",
   "execution_count": 41,
   "id": "c7af71b5-3bbb-4b51-8e1e-539d71434881",
   "metadata": {},
   "outputs": [
    {
     "data": {
      "text/plain": [
       "RandomForestClassifier()"
      ]
     },
     "execution_count": 41,
     "metadata": {},
     "output_type": "execute_result"
    }
   ],
   "source": [
    "model.fit(X_train,Y_train)"
   ]
  },
  {
   "cell_type": "markdown",
   "id": "c81ad3e2-cc61-426a-b193-fc8e3bdcc22d",
   "metadata": {},
   "source": [
    "### Checking the accuracy"
   ]
  },
  {
   "cell_type": "code",
   "execution_count": 42,
   "id": "96cdbd86-cfb3-4174-86c7-f5fe802a2ac1",
   "metadata": {},
   "outputs": [],
   "source": [
    "X_test_prediction = model.predict(X_test)\n",
    "test_data_accuracy = accuracy_score(X_test_prediction, Y_test)"
   ]
  },
  {
   "cell_type": "code",
   "execution_count": 43,
   "id": "43cca01f-95a5-4131-910b-7e7c0ce33662",
   "metadata": {},
   "outputs": [
    {
     "name": "stdout",
     "output_type": "stream",
     "text": [
      "Accuracy:  0.8939393939393939\n"
     ]
    }
   ],
   "source": [
    "print('Accuracy: ',test_data_accuracy)"
   ]
  },
  {
   "cell_type": "markdown",
   "id": "f69b93ef-ff80-4466-b6ca-57591d538cd6",
   "metadata": {},
   "source": [
    "*Almost 90% accuracy, not bad! Our model is performing really well.*"
   ]
  },
  {
   "cell_type": "markdown",
   "id": "8909f85e-94f4-4579-ac44-cfb1c04bb58f",
   "metadata": {},
   "source": [
    "### Building a Predictive System"
   ]
  },
  {
   "cell_type": "code",
   "execution_count": 44,
   "id": "df544a83-acf5-403d-97d4-efbe87262b78",
   "metadata": {},
   "outputs": [],
   "source": [
    "# I've taken random row from the dataset and trying to predict the quality just for this particular instance\n",
    "input = (11.2,0.28,0.56,1.9,0.075,17.0,60.0,0.9980,3.16,0.58,9.8)\n",
    "\n",
    "# Chaning the input data to numpy array\n",
    "input_numpy = np.asarray(input)\n",
    "\n",
    "# We have to reshape the data as we are tryng to predict the quality for only 1 instance\n",
    "# If we won't reshape it, our model doesn't know we'are trying to predict the quality for only 1 instance and will look for all the values\n",
    "\n",
    "reshaped_input = input_numpy.reshape(1,-1) # It tells the model we want to predict the quality for only 1 instance\n",
    "\n",
    "pred = model.predict(reshaped_input)"
   ]
  },
  {
   "cell_type": "markdown",
   "id": "447da88d-8abf-48d8-82a8-14d9e6abc882",
   "metadata": {},
   "source": [
    "*It will output either 0 or 1 where 0 is Bad Quality and 1 is Good Quality, we are expecting '0'.*"
   ]
  },
  {
   "cell_type": "code",
   "execution_count": 45,
   "id": "010fd84f-9aa5-438b-8cc7-3c143077dfb2",
   "metadata": {},
   "outputs": [
    {
     "name": "stdout",
     "output_type": "stream",
     "text": [
      "[0]\n"
     ]
    }
   ],
   "source": [
    "print(pred)"
   ]
  },
  {
   "cell_type": "code",
   "execution_count": 46,
   "id": "4cc83661-3cd4-4a6d-a9f2-a35434adeb25",
   "metadata": {},
   "outputs": [
    {
     "name": "stdout",
     "output_type": "stream",
     "text": [
      "Bad Quality\n"
     ]
    }
   ],
   "source": [
    "if(pred[0]==1):\n",
    "    print('Good Quality')\n",
    "else:\n",
    "    print('Bad Quality')"
   ]
  },
  {
   "cell_type": "markdown",
   "id": "28b72b51-ce80-41e2-9420-ad72ff303541",
   "metadata": {},
   "source": [
    "*Our model successfully predicted the quality of the wine!*"
   ]
  },
  {
   "cell_type": "markdown",
   "id": "09833e32-97fc-44c6-aa76-9d1c33a20c1d",
   "metadata": {},
   "source": [
    "# End Random Forest\n",
    "***"
   ]
  },
  {
   "cell_type": "code",
   "execution_count": null,
   "id": "82da8cd8-5c77-409b-9f86-2c842e6451e2",
   "metadata": {},
   "outputs": [],
   "source": []
  },
  {
   "cell_type": "code",
   "execution_count": null,
   "id": "e5351faa-69f0-4d0a-a2c1-382ed37a65e3",
   "metadata": {},
   "outputs": [],
   "source": []
  },
  {
   "cell_type": "code",
   "execution_count": null,
   "id": "b5f43a30-8bb9-4fe1-ae61-6f107e7040a2",
   "metadata": {},
   "outputs": [],
   "source": []
  },
  {
   "cell_type": "code",
   "execution_count": null,
   "id": "d40d38f8-de83-4b48-a8b7-9dbc91560da9",
   "metadata": {},
   "outputs": [],
   "source": []
  },
  {
   "cell_type": "markdown",
   "id": "307a854d-2443-420c-b367-013296088922",
   "metadata": {},
   "source": [
    "# References\n",
    "***"
   ]
  },
  {
   "cell_type": "markdown",
   "id": "e70e3f1e-e078-40d9-af78-45fcc86bad28",
   "metadata": {},
   "source": [
    "[Decision Tree Classifier](http://mines.humanoriented.com/classes/2010/fall/csci568/portfolio_exports/lguo/decisionTree.html"
   ]
  },
  {
   "cell_type": "markdown",
   "id": "74e7d687-7773-4d3e-a3e0-1d28fdd38b7b",
   "metadata": {},
   "source": [
    "<a id='section2'></a>[What is Random Forest Algorithm](https://www.javatpoint.com/machine-learning-random-forest-algorithm)"
   ]
  },
  {
   "cell_type": "markdown",
   "id": "998179c4-2bcd-48cf-85c6-a67752222c66",
   "metadata": {},
   "source": [
    "<a id='section3'></a>[About SVM](https://towardsdatascience.com/support-vector-machine-introduction-to-machine-learning-algorithms-934a444fca47)"
   ]
  },
  {
   "cell_type": "markdown",
   "id": "31e18d55-73a9-4d53-a222-b77d79bbda55",
   "metadata": {},
   "source": [
    "<a id='section4'></a>[Disadvantages and advantages of SVM](https://scikit-learn.org/stable/modules/svm.html)"
   ]
  },
  {
   "cell_type": "markdown",
   "id": "d90cacac-a523-482a-b234-098d1cd059a1",
   "metadata": {},
   "source": [
    "<a id='section5'></a>[SVM](https://en.wikipedia.org/wiki/Support-vector_machine)"
   ]
  },
  {
   "cell_type": "code",
   "execution_count": null,
   "id": "aaf894eb-81d0-4d12-88e8-aaa71656e49e",
   "metadata": {},
   "outputs": [],
   "source": []
  }
 ],
 "metadata": {
  "kernelspec": {
   "display_name": "Python 3",
   "language": "python",
   "name": "python3"
  },
  "language_info": {
   "codemirror_mode": {
    "name": "ipython",
    "version": 3
   },
   "file_extension": ".py",
   "mimetype": "text/x-python",
   "name": "python",
   "nbconvert_exporter": "python",
   "pygments_lexer": "ipython3",
   "version": "3.8.8"
  }
 },
 "nbformat": 4,
 "nbformat_minor": 5
}
