{
 "cells": [
  {
   "cell_type": "markdown",
   "id": "0b901778-28e9-444f-82dd-debec34f9ccf",
   "metadata": {},
   "source": [
    "# Quantum Comping vs Classical Computing\n",
    "***"
   ]
  },
  {
   "cell_type": "markdown",
   "id": "1e7f716f-8043-4ccb-856f-d12162bf771a",
   "metadata": {},
   "source": [
    "## What is Quantum Computing\n",
    "***"
   ]
  },
  {
   "cell_type": "markdown",
   "id": "feb28eab-7c7a-462d-a2bb-0a26942b79c3",
   "metadata": {},
   "source": [
    "Since the 1960's, the power of computers has kept growing exponentially, allowing them to get smaller and more powerful at the same time.\n",
    "But this process is about to meet its physical limits. Computer parts are approaching the size of an atom.\n",
    "A computer is made up of very simple components,doing very simple things such as representing data, the means of processing it, and control mechanisms.\n",
    "Computer chips contain modules, which contain [logic gate](https://en.wikipedia.org/wiki/Logic_gate), which contain transistors. A transistor is the simplest form of a data processor in computers, basically a switch that can either block, or open the way for information coming through. This information is made up of bits, which can be set to either 0 or 1. Combinations of several bits are used to represent more complex information. Transistors are combined to create logic gates which still do very simple stuff. For example, an AND Gate sends an output of 1 if all of its inputs are 1, and a output of 0 otherwise."
   ]
  },
  {
   "cell_type": "markdown",
   "id": "4b226a63-199a-4c5f-88b5-581e928c468a",
   "metadata": {},
   "source": [
    "Quantum computers operates with **quibits**. They can me 0, 1 or both.\n",
    "<br>\n",
    "Qubit can be either:\n",
    "- electron\n",
    "- photon\n",
    "- nucleus of an atom"
   ]
  },
  {
   "cell_type": "markdown",
   "id": "e9e91456-7618-4492-892a-aff4b50769ff",
   "metadata": {},
   "source": [
    "### Why can't we have quantum computers at home (yet)?\n",
    "***"
   ]
  },
  {
   "cell_type": "markdown",
   "id": "c3dc423a-1dd1-4650-b602-356701eb28ef",
   "metadata": {},
   "source": [
    "These machines require huge facilities and specific conditions to run. Quantum chips have to operate at very low temperatures to maintain the quantum information. That's why the tempareture inside most of the quantum computers is below negative 450 degrees fahrenheit (**-232°C**). They are kept in [dilution refrigerators](https://en.wikipedia.org/wiki/Dilution_refrigerator). Quantum computers are not meant to replace classical computers. They're just meant to solve distinct problems that are hard to solve with classical computers such as [optimazation problems](https://math.libretexts.org/Bookshelves/Calculus/Map%3A_Calculus__Early_Transcendentals_(Stewart)/04%3A_Applications_of_Differentiation/4.07%3A_Optimization_Problems).\n",
    "<br>\n",
    "![alt text](images/quantum_comp.png \"Quantum Computer\")\n",
    "<br>\n",
    "According to [IBM](https://en.wikipedia.org/wiki/IBM) research this iron sulfide cluster in nitrogenous enzyme is the biggest cluster that we can simulate with the most powerful supercomputer. It took months to simulate this, quantum computer is able to simulate the same enzyme within minutes.\n",
    "![alt text](images/iron_cluster.png \"Iron Sulfide Cluster\")\n",
    "\n",
    "<br>"
   ]
  },
  {
   "cell_type": "markdown",
   "id": "51b52048-98e7-4972-8462-ba18614755b3",
   "metadata": {},
   "source": [
    "## Classical Computing\n",
    "***"
   ]
  },
  {
   "cell_type": "markdown",
   "id": "8e48cef5-6a57-4c8e-8686-03db8672e7e7",
   "metadata": {},
   "source": [
    "Computers we're using daily are known as classical computers, and they operate by bits . A bit is a single binary digit which is either 0 or 1."
   ]
  },
  {
   "cell_type": "markdown",
   "id": "4f7fcaca-556c-4eee-9303-5ed493776c2e",
   "metadata": {},
   "source": [
    "### What is 0 and 1?"
   ]
  },
  {
   "cell_type": "markdown",
   "id": "342a4f71-cd9e-4a46-922d-603daded1123",
   "metadata": {},
   "source": [
    "In the heart of any electronic device such as a computer or a mobile phone we can find a processor which consists of billions of transistors which are made out of silicon the most abundant element on earth after oxygen. Silicon has four electrons"
   ]
  },
  {
   "cell_type": "code",
   "execution_count": null,
   "id": "ef116699-f2c8-4dc4-a91e-3650d35586f1",
   "metadata": {},
   "outputs": [],
   "source": []
  },
  {
   "cell_type": "code",
   "execution_count": null,
   "id": "403fc152-a23f-4bad-9173-f39960729493",
   "metadata": {},
   "outputs": [],
   "source": []
  },
  {
   "cell_type": "code",
   "execution_count": null,
   "id": "3ac444fc-4b88-4fb3-94da-9ccf77d1b6e2",
   "metadata": {},
   "outputs": [],
   "source": []
  },
  {
   "cell_type": "code",
   "execution_count": null,
   "id": "ffbe6980-f7d9-4345-8d4c-0c2027735789",
   "metadata": {},
   "outputs": [],
   "source": []
  },
  {
   "cell_type": "code",
   "execution_count": null,
   "id": "b68ec2a7-66ed-4e28-9596-5d90194e9502",
   "metadata": {},
   "outputs": [],
   "source": []
  },
  {
   "cell_type": "code",
   "execution_count": null,
   "id": "486a829f-e853-4e05-99c0-42edccf39463",
   "metadata": {},
   "outputs": [],
   "source": []
  }
 ],
 "metadata": {
  "kernelspec": {
   "display_name": "Python 3",
   "language": "python",
   "name": "python3"
  },
  "language_info": {
   "codemirror_mode": {
    "name": "ipython",
    "version": 3
   },
   "file_extension": ".py",
   "mimetype": "text/x-python",
   "name": "python",
   "nbconvert_exporter": "python",
   "pygments_lexer": "ipython3",
   "version": "3.8.8"
  }
 },
 "nbformat": 4,
 "nbformat_minor": 5
}
