{
 "cells": [
  {
   "cell_type": "markdown",
   "id": "0b901778-28e9-444f-82dd-debec34f9ccf",
   "metadata": {},
   "source": [
    "# Quantum Comping vs Classical Computing\n",
    "***"
   ]
  },
  {
   "cell_type": "markdown",
   "id": "1e7f716f-8043-4ccb-856f-d12162bf771a",
   "metadata": {},
   "source": [
    "## What is Quantum Computing\n",
    "***"
   ]
  },
  {
   "cell_type": "markdown",
   "id": "feb28eab-7c7a-462d-a2bb-0a26942b79c3",
   "metadata": {},
   "source": [
    "Since the 1960's, the power of computers has kept growing exponentially, allowing them to get smaller and more powerful at the same time.\n",
    "But this process is about to meet its physical limits. Computer parts are approaching the size of an atom.\n",
    "A computer is made up of very simple components,doing very simple things such as representing data, the means of processing it, and control mechanisms.\n",
    "Computer chips contain modules, which contain [logic gate](https://en.wikipedia.org/wiki/Logic_gate), which contain transistors. A transistor is the simplest form of a data processor in computers, basically a switch that can either block, or open the way for information coming through. This information is made up of bits, which can be set to either 0 or 1. Combinations of several bits are used to represent more complex information. Transistors are combined to create logic gates which still do very simple stuff. For example, an AND Gate sends an output of 1 if all of its inputs are 1, and a output of 0 otherwise."
   ]
  },
  {
   "cell_type": "markdown",
   "id": "4b226a63-199a-4c5f-88b5-581e928c468a",
   "metadata": {},
   "source": [
    "Quantum computers operates with **quibits**. They can me 0, 1 or both.\n",
    "<br>\n",
    "Qubit can be either:\n",
    "- electron\n",
    "- photon\n",
    "- nucleus of an atom"
   ]
  },
  {
   "cell_type": "markdown",
   "id": "e9e91456-7618-4492-892a-aff4b50769ff",
   "metadata": {},
   "source": [
    "### Why can't we have quantum computers at home (yet)?\n",
    "***"
   ]
  },
  {
   "cell_type": "markdown",
   "id": "c3dc423a-1dd1-4650-b602-356701eb28ef",
   "metadata": {},
   "source": [
    "These machines require huge facilities and specific conditions to run. Quantum chips have to operate at very low temperatures to maintain the quantum information. That's why the tempareture inside most of the quantum computers is below negative 450 degrees fahrenheit (**-232°C**). They are kept in [dilution refrigerators](https://en.wikipedia.org/wiki/Dilution_refrigerator). Quantum computers are not meant to replace classical computers. They're just meant to solve distinct problems that are hard to solve with classical computers such as [optimazation problems](https://math.libretexts.org/Bookshelves/Calculus/Map%3A_Calculus__Early_Transcendentals_(Stewart)/04%3A_Applications_of_Differentiation/4.07%3A_Optimization_Problems).\n",
    "<br>\n",
    "![alt text](images/quantum_comp.png \"Quantum Computer\")\n",
    "<br>\n",
    "According to [IBM](https://en.wikipedia.org/wiki/IBM) research this iron sulfide cluster in nitrogenous enzyme is the biggest cluster that we can simulate with the most powerful supercomputer. It took months to simulate this using classical compiter, quantum computer is able to simulate the same enzyme within minutes.\n",
    "![alt text](images/iron_cluster.png \"Iron Sulfide Cluster\")\n",
    "\n",
    "<br>"
   ]
  },
  {
   "cell_type": "markdown",
   "id": "51b52048-98e7-4972-8462-ba18614755b3",
   "metadata": {},
   "source": [
    "## Classical Computing\n",
    "***"
   ]
  },
  {
   "cell_type": "markdown",
   "id": "8e48cef5-6a57-4c8e-8686-03db8672e7e7",
   "metadata": {},
   "source": [
    "Computers we're using daily are known as classical computers, and they operate by bits . A bit is a single binary digit which is either 0 or 1."
   ]
  },
  {
   "cell_type": "markdown",
   "id": "4f7fcaca-556c-4eee-9303-5ed493776c2e",
   "metadata": {},
   "source": [
    "### What is 0 and 1?"
   ]
  },
  {
   "cell_type": "markdown",
   "id": "342a4f71-cd9e-4a46-922d-603daded1123",
   "metadata": {},
   "source": [
    "In the heart of any electronic device such as a computer or a mobile phone we can find a processor which consists of billions of transistors which are made out of silicon the most abundant element on earth after oxygen. Silicon has four electrons"
   ]
  },
  {
   "cell_type": "code",
   "execution_count": null,
   "id": "ef116699-f2c8-4dc4-a91e-3650d35586f1",
   "metadata": {},
   "outputs": [],
   "source": []
  },
  {
   "cell_type": "code",
   "execution_count": null,
   "id": "403fc152-a23f-4bad-9173-f39960729493",
   "metadata": {},
   "outputs": [],
   "source": []
  },
  {
   "cell_type": "code",
   "execution_count": null,
   "id": "3ac444fc-4b88-4fb3-94da-9ccf77d1b6e2",
   "metadata": {},
   "outputs": [],
   "source": []
  },
  {
   "cell_type": "code",
   "execution_count": null,
   "id": "ffbe6980-f7d9-4345-8d4c-0c2027735789",
   "metadata": {},
   "outputs": [],
   "source": []
  },
  {
   "cell_type": "code",
   "execution_count": null,
   "id": "b68ec2a7-66ed-4e28-9596-5d90194e9502",
   "metadata": {},
   "outputs": [],
   "source": []
  },
  {
   "cell_type": "code",
   "execution_count": null,
   "id": "486a829f-e853-4e05-99c0-42edccf39463",
   "metadata": {},
   "outputs": [],
   "source": []
  },
  {
   "cell_type": "code",
   "execution_count": null,
   "id": "5560f2e3-e92f-4582-ad4d-92b6397d77fa",
   "metadata": {},
   "outputs": [],
   "source": []
  },
  {
   "cell_type": "code",
   "execution_count": null,
   "id": "d56e349b-c2af-48f1-85c4-76cbe35c65b4",
   "metadata": {},
   "outputs": [],
   "source": []
  },
  {
   "cell_type": "code",
   "execution_count": null,
   "id": "52b3283d-6857-497b-b9cb-6dedfd48cad9",
   "metadata": {},
   "outputs": [],
   "source": []
  },
  {
   "cell_type": "markdown",
   "id": "ea8c01e9-fc3e-45ee-84a2-671451456907",
   "metadata": {},
   "source": [
    "# Deutsch's Algorithm"
   ]
  },
  {
   "cell_type": "markdown",
   "id": "2f0a2887-1e9d-4ecd-ac7e-70b10c77d65a",
   "metadata": {},
   "source": [
    "https://qiskit.org/textbook/ch-algorithms/deutsch-jozsa.html\n",
    "***"
   ]
  },
  {
   "cell_type": "markdown",
   "id": "8fa9e85e-5756-4b2d-b7b4-bca5c84a17da",
   "metadata": {},
   "source": [
    "### Preliminaries\n",
    "***"
   ]
  },
  {
   "cell_type": "markdown",
   "id": "af85c696-f178-4a5c-bd65-ec5eca714c26",
   "metadata": {},
   "source": [
    "*Quantum computers are designed to exploit the fact, that there uncertinty around measuring certain properties in quantum scale, such as **electron**, **photon**.*"
   ]
  },
  {
   "cell_type": "markdown",
   "id": "05846959-7327-4426-86c6-00048fb6a030",
   "metadata": {},
   "source": [
    "### Qubits\n",
    "*The first state is called zero*\n",
    "<br>\n",
    "$│0 \\rangle = \\begin{bmatrix} 1 \\\\ 0 \\end{bmatrix}$\n",
    "<br>\n",
    "$│1 \\rangle = \\begin{bmatrix} 0 \\\\ 1 \\end{bmatrix}$\n",
    "<br>\n",
    "*Represents a hybrid position where $\\alpha$ and $\\beta$ are [complex numbers](https://en.wikipedia.org/wiki/Complex_number)*\n",
    "<br>\n",
    "$│\\psi \\rangle = \\begin{bmatrix} \\alpha \\\\ \\beta \\end{bmatrix}$\n",
    "<br>\n",
    "$\\alpha = a +bi \\qquad \\beta = c +di \\qquad a,b,c,d \\in \\mathbb{R}$\n",
    "<br>\n",
    "$ \\alpha^2 + \\beta^2 =1$\n",
    "***"
   ]
  },
  {
   "cell_type": "markdown",
   "id": "d7a66613-694a-452c-8f61-60758712b6c8",
   "metadata": {},
   "source": [
    "### Gates\n",
    "\n",
    "*For a single qubit a gate is just a 2x2 matrix with 4 entries, where each entry is a complex number*\n",
    "<br>\n",
    "<br>\n",
    "**Hadamard Matrix**\n",
    "\n",
    "$H=\\begin{bmatrix} \\frac{1}{\\sqrt{2}} & \\frac{1}{\\sqrt{2}} \\\\ \\frac{1}{\\sqrt{2}} & - \\frac{1}{\\sqrt{2}} \\end{bmatrix} = \\frac{1}{\\sqrt{2}} \\begin{bmatrix} 1 & 1 \\\\ 1& -1 \\end{bmatrix} $\n",
    "<br>\n",
    "*If we take matrix **H** and apply it to a qubit zero, we just perform simple matrix multiplication*\n",
    "<br>\n",
    "$H │ 0 \\rangle = \\frac{1}{\\sqrt{2}} \\begin{bmatrix} 1 & 1 \\\\ 1& -1 \\end{bmatrix} \\begin{bmatrix} 1 \\\\ 0  \\end{bmatrix} = \\frac{1}{\\sqrt{2}} \\begin{bmatrix} 1 \\\\ 1 \\end{bmatrix} = \\begin{bmatrix} \\frac{1}{\\sqrt{2}} \\\\ \\frac{1}{\\sqrt{2}} \\end{bmatrix} = │+\\rangle $\n",
    "<br>\n",
    "*Here we applying **Hadamard** Gate to the qubit in state 1*\n",
    "<br>\n",
    "$H │ 1 \\rangle = \\frac{1}{\\sqrt{2}} \\begin{bmatrix} 1 & 1 \\\\ 1& -1 \\end{bmatrix} \\begin{bmatrix} 1 \\\\ 0  \\end{bmatrix} = \\frac{1}{\\sqrt{2}} \\begin{bmatrix} 1 \\\\ -1 \\end{bmatrix} = \\begin{bmatrix} \\frac{1}{\\sqrt{2}} \\\\ -\\frac{1}{\\sqrt{2}} \\end{bmatrix} =  │-\\rangle $\n",
    "<br>\n",
    "\n",
    "**Condition for a valid qubit gate**\n",
    "<br>\n",
    "*$H^*$ is a conjugate transpose, which means that we transpose the matrix (turning rows into columns)*\n",
    "<br>\n",
    "\n",
    "$H^* = H^{-1}$\n",
    "<br>\n",
    "\n",
    "$(a+b)^* = a -bi$\n",
    "<br>\n",
    "\n",
    "**Identity Matrix**\n",
    "\n",
    "$I = \\begin{bmatrix} 1 & 0 \\\\ 0 & 1 \\end{bmatrix}$\n",
    "***"
   ]
  },
  {
   "cell_type": "markdown",
   "id": "3126dbf2-1553-4636-b885-82e569a8bfb8",
   "metadata": {},
   "source": [
    "### Measurements\n",
    "*In Quantum measurement scenario, a measurement operator is essentially a matrix (rather a carefully chosen matrix) that mathematically manipulates the initial state of the system.*\n",
    "\n",
    "$ │\\psi\\rangle = \\begin{bmatrix} \\alpha \\\\ \\beta \\end{bmatrix} \\Leftrightarrow \\langle \\psi│ = \\begin{bmatrix} \\alpha^* &  \\beta^* \\end{bmatrix}$\n",
    "\n",
    "##### Probability of measuring $│0\\rangle$ when in $│+\\rangle$ state\n",
    "*Form the bracket in 0 or 1 form and then take its [magnitude](https://en.wikipedia.org/wiki/Magnitude_(mathematics)) and square it*\n",
    "\n",
    "*If we're in the $│+ \\rangle$ state and we check if it's a 0 it will happen with probability of $\\frac{1}{2}$*\n",
    "\n",
    "$│\\langle 0 │ + \\rangle│^2 = │\\langle 0 ││ + \\rangle│^2 = │\\begin{bmatrix} 1 & 0  \\end{bmatrix} \\begin{bmatrix} \\frac{1}{\\sqrt{2}} \\\\ \\frac{1}{\\sqrt{2}}    \\end{bmatrix} │^2 = │(1)(\\frac{1}{\\sqrt{2}}) + (0)(\\frac{1}{\\sqrt{2}})│^2 = (\\frac{1}{\\sqrt{2}})^2 = \\frac{1}{2} $\n",
    "\n",
    "$│a+bi│ = \\sqrt{(a+bi)(a-bi)} = \\sqrt{a^2+b^2}$\n",
    "\n",
    "##### Probability of measuring $│1\\rangle$ when in $│- \\rangle$ state\n",
    "\n",
    "*The same probability of $\\frac{1}{2}$ applies to  $│- \\rangle$ state*\n",
    "\n",
    "$│\\langle 1 │ - \\rangle│^2 = │\\langle 1 ││ - \\rangle│^2 = │\\begin{bmatrix} 0 & 1  \\end{bmatrix} \\begin{bmatrix} \\frac{1}{\\sqrt{2}} \\\\ -\\frac{1}{\\sqrt{2}}    \\end{bmatrix} │^2 = │(0)(\\frac{1}{\\sqrt{2}}) + (1)(-\\frac{1}{\\sqrt{2}})│^2 = (-\\frac{1}{\\sqrt{2}})^2 = \\frac{1}{2} $\n",
    "\n",
    "##### Probability of measuring $│1\\rangle$ when in $│0 \\rangle$ state\n",
    "\n",
    "*It is an [orthogonal state](https://physics.stackexchange.com/questions/272936/what-is-an-orthogonal-state). Two different states are orthogonal to each other when there is 0 probability of measuring one when in the other state*\n",
    "\n",
    "$│\\langle 1 │ - \\rangle│^2  = │\\begin{bmatrix} 0 & 1  \\end{bmatrix} \\begin{bmatrix} 1 \\\\ 0   \\end{bmatrix} │^2 = │(0)(1) + (1)(0)│^2 = 0 $\n",
    "***"
   ]
  },
  {
   "cell_type": "markdown",
   "id": "31d2d8e2-3082-47e2-986f-c2493c1636b2",
   "metadata": {},
   "source": [
    "### Multiple Qubits\n",
    "\n",
    "*To represent multiple qubits we use [Kroneker product](https://en.wikipedia.org/wiki/Kronecker_product)*\n",
    "\n",
    "1st Qubit: $│0\\rangle = \\begin{bmatrix} 1\\\\ 0 \\end{bmatrix}$\n",
    "\n",
    "2nd Qubit: $│1\\rangle= \\begin{bmatrix} 0\\\\ 1 \\end{bmatrix}$\n",
    "\n",
    "*If we have  **n** qubits, we will need to keep track of $2^n$ complex amplitudes.* [[3](#section3)] \n",
    "*Forming the matrix that takes the entires from the first qubit, then take the matrix of the second qubit, multiply it and the result of that is 1x4 matrix*\n",
    "  \n",
    "Combined: $│01\\rangle= │0\\rangle \\bigotimes │1\\rangle = 1 \\begin{bmatrix} \\begin{bmatrix} 0\\\\ 1 \\end{bmatrix} \\\\ 0 \\begin{bmatrix} 0\\\\ 1 \\end{bmatrix} \\end{bmatrix} =  \\begin{bmatrix} (1)(0) \\\\ (1)(1) \\\\ (0)(1)  \\\\ (0)(0) \\end{bmatrix} = \\begin{bmatrix} 0 \\\\ 1 \\\\ 0  \\\\ 0 \\end{bmatrix} $\n",
    "***\n",
    "\n"
   ]
  },
  {
   "cell_type": "markdown",
   "id": "a88532c9-24d3-4608-a12b-adc127073d2e",
   "metadata": {},
   "source": [
    "### CNOT Gate\n",
    "\n",
    "*CNOT Gate is two-qubit operation, where the first qubit is usually referred to as the control qubit and the second qubit as the target qubit [[4](#section4)]*\n",
    "\n",
    "$CNOT = \\begin{bmatrix} 1 & 0 & 0 & 0 \\\\ 0 & 1 & 0 & 0 \\\\ 0 & 0 & 0 & 1 \\\\ 1 & 1 & 1 & 0 \\end{bmatrix}$\n",
    "\n",
    "*The CNOT does nothing to this particular set of qubits where the first one is in state 0 and the second one is in state 1*\n",
    "\n",
    "$CNOT \\times │01\\rangle  = \\begin{bmatrix} 1 & 0 & 0 & 0 \\\\ 0 & 1 & 0 & 0 \\\\ 0 & 0 & 0 & 1 \\\\ 0 & 0 & 1 & 0 \\end{bmatrix} \\begin{bmatrix} 0 \\\\ 1 \\\\ 0 \\\\ 0 \\end{bmatrix} = \\begin{bmatrix} 0 \\\\ 1 \\\\ 0 \\\\ 0 \\end{bmatrix} =│01\\rangle $\n",
    "\n",
    "*In the setup where the first qubit is in state 1 and the second one in state 0 the last 2 entries get swapped around*\n",
    "\n",
    "$CNOT \\times │10\\rangle  = \\begin{bmatrix} 1 & 0 & 0 & 0 \\\\ 0 & 1 & 0 & 0 \\\\ 0 & 0 & 0 & 1 \\\\ 0 & 0 & 1 & 0 \\end{bmatrix} \\begin{bmatrix} 0 \\\\ 0 \\\\ 1 \\\\ 0 \\end{bmatrix} = \\begin{bmatrix} 0 \\\\ 0 \\\\ 0 \\\\ 1 \\end{bmatrix} = │11\\rangle$\n",
    "***"
   ]
  },
  {
   "cell_type": "markdown",
   "id": "932a10fb-b262-4e41-8599-12e673c71063",
   "metadata": {},
   "source": [
    "### $H$ followed by $CNOT$"
   ]
  },
  {
   "cell_type": "code",
   "execution_count": null,
   "id": "a2e24e51-1c50-4279-b488-a94a97d669c1",
   "metadata": {},
   "outputs": [],
   "source": []
  },
  {
   "cell_type": "code",
   "execution_count": null,
   "id": "697bede9-92db-4345-a7b0-c78d3b2d2e27",
   "metadata": {},
   "outputs": [],
   "source": []
  },
  {
   "cell_type": "code",
   "execution_count": null,
   "id": "d3bf7bb2-e4ab-48d7-a59f-7ae88b0e7a33",
   "metadata": {},
   "outputs": [],
   "source": []
  },
  {
   "cell_type": "code",
   "execution_count": null,
   "id": "152fc11c-dd90-4d0b-b66a-f922acfbab57",
   "metadata": {},
   "outputs": [],
   "source": []
  },
  {
   "cell_type": "code",
   "execution_count": null,
   "id": "833e67fa-9284-43da-b640-fdf2d3d9586d",
   "metadata": {},
   "outputs": [],
   "source": []
  },
  {
   "cell_type": "code",
   "execution_count": null,
   "id": "05018e4d-ca33-4d90-aa0d-7d9427f530f7",
   "metadata": {},
   "outputs": [],
   "source": []
  },
  {
   "cell_type": "markdown",
   "id": "85b8c89d-fd6a-4673-9355-0bd8e5d2b0a3",
   "metadata": {},
   "source": [
    "## Setup"
   ]
  },
  {
   "cell_type": "code",
   "execution_count": 1,
   "id": "93584399-b472-4995-9b70-0ae8de2bf285",
   "metadata": {},
   "outputs": [],
   "source": [
    "# Import qiskit\n",
    "import qiskit\n",
    "# Aer simulator\n",
    "import qiskit.providers.aer as aer\n",
    "# Diagrams\n",
    "import matplotlib.pyplot as plt\n",
    "%matplotlib inline"
   ]
  },
  {
   "cell_type": "code",
   "execution_count": 2,
   "id": "52b3805e-e792-4690-8247-ae1dd255badf",
   "metadata": {},
   "outputs": [],
   "source": [
    "# Change the plot style\n",
    "plt.style.use('ggplot')"
   ]
  },
  {
   "cell_type": "markdown",
   "id": "edc4d5ad-4b24-45ad-bfae-2634cfc2c78b",
   "metadata": {},
   "source": [
    "<br>\n",
    "\n",
    "## Constant zero function\n",
    "***"
   ]
  },
  {
   "cell_type": "code",
   "execution_count": 3,
   "id": "50b3104e-5dd7-4792-a547-38dc96ebdd52",
   "metadata": {},
   "outputs": [],
   "source": [
    "# Create a quantum circuit with two qubits, one classical one\n",
    "circuit = qiskit.QuantumCircuit(2,1)"
   ]
  },
  {
   "cell_type": "code",
   "execution_count": 4,
   "id": "a073c379-4b9c-43ee-907a-78482a87b7ea",
   "metadata": {},
   "outputs": [
    {
     "data": {
      "text/plain": [
       "<qiskit.circuit.instructionset.InstructionSet at 0x7feba867f540>"
      ]
     },
     "execution_count": 4,
     "metadata": {},
     "output_type": "execute_result"
    }
   ],
   "source": [
    "# Initialise first quibit to |0>\n",
    "circuit.initialize([1,0],0)"
   ]
  },
  {
   "cell_type": "code",
   "execution_count": 5,
   "id": "f4fa76c5-b41f-40b1-b73f-2236eb073e83",
   "metadata": {},
   "outputs": [
    {
     "data": {
      "text/plain": [
       "<qiskit.circuit.instructionset.InstructionSet at 0x7feba8620340>"
      ]
     },
     "execution_count": 5,
     "metadata": {},
     "output_type": "execute_result"
    }
   ],
   "source": [
    "# Initialise second quibit to |1>\n",
    "circuit.initialize([0,1],1)"
   ]
  },
  {
   "cell_type": "markdown",
   "id": "085b7fa0-7741-459b-8abc-9f7138f50e6c",
   "metadata": {},
   "source": [
    "### Hadamard Gate"
   ]
  },
  {
   "cell_type": "markdown",
   "id": "9d28c466-acf4-413b-83a9-c7206a74ee04",
   "metadata": {},
   "source": [
    "**The Hadamard gate** [[1](#section1)] is a single-qubit operation that maps the basis state **∣0⟩** to $\\frac{∣0⟩+∣1⟩}{\\sqrt{2}}$\n",
    " and **∣1⟩** to $\\frac{∣0⟩-∣1⟩}{\\sqrt{2}}$ thus creating an equal superposition of the two basis states"
   ]
  },
  {
   "cell_type": "code",
   "execution_count": 6,
   "id": "88baf044-4941-4c35-bbf5-19434112eba9",
   "metadata": {},
   "outputs": [
    {
     "data": {
      "text/plain": [
       "<qiskit.circuit.instructionset.InstructionSet at 0x7feba86a8d40>"
      ]
     },
     "execution_count": 6,
     "metadata": {},
     "output_type": "execute_result"
    }
   ],
   "source": [
    "# Applying Hadamard gate to both qubits\n",
    "circuit.h(0)\n",
    "circuit.h(1)"
   ]
  },
  {
   "cell_type": "markdown",
   "id": "c54fa6f0-3ea7-43f2-845f-3bb24ff1f928",
   "metadata": {},
   "source": [
    "### Identity Gate\n",
    "**The Identity gate** [[2](#section2)] is a single-qubit operation that leaves the basis states **∣0⟩** and **∣1⟩**  unchanged.\n",
    "<br>\n",
    "$I=\\begin{pmatrix}\n",
    "1&0\\\\\n",
    "0&1\\\\\n",
    "\\end{pmatrix}$\n"
   ]
  },
  {
   "cell_type": "code",
   "execution_count": 7,
   "id": "76c056fe-86dc-44b8-b9b6-e4385334da76",
   "metadata": {},
   "outputs": [
    {
     "data": {
      "text/plain": [
       "<qiskit.circuit.instructionset.InstructionSet at 0x7feba8620ac0>"
      ]
     },
     "execution_count": 7,
     "metadata": {},
     "output_type": "execute_result"
    }
   ],
   "source": [
    "# Identity Gate\n",
    "circuit.i(1)"
   ]
  },
  {
   "cell_type": "code",
   "execution_count": 8,
   "id": "441f4663-5477-4572-be89-70db528a97c5",
   "metadata": {},
   "outputs": [
    {
     "data": {
      "text/plain": [
       "<qiskit.circuit.instructionset.InstructionSet at 0x7feba8775400>"
      ]
     },
     "execution_count": 8,
     "metadata": {},
     "output_type": "execute_result"
    }
   ],
   "source": [
    "# Applying another Hadamad gate to the first qubits\n",
    "circuit.h(0)"
   ]
  },
  {
   "cell_type": "code",
   "execution_count": 9,
   "id": "92070185-7a38-413b-ba03-837da875aee0",
   "metadata": {},
   "outputs": [
    {
     "data": {
      "text/plain": [
       "<qiskit.circuit.instructionset.InstructionSet at 0x7feba8645340>"
      ]
     },
     "execution_count": 9,
     "metadata": {},
     "output_type": "execute_result"
    }
   ],
   "source": [
    "# Measure the first qubit.\n",
    "# The first argument is the qubit we want to measure, the second one is the classical bit we want to measure.\n",
    "circuit.measure(0,0)"
   ]
  },
  {
   "cell_type": "code",
   "execution_count": 10,
   "id": "783e7f54-067d-471d-b107-b7f21277a842",
   "metadata": {},
   "outputs": [
    {
     "data": {
      "image/png": "[encoded data removed]",
      "text/plain": [
       "<Figure size 589.054x368.424 with 1 Axes>"
      ]
     },
     "execution_count": 10,
     "metadata": {},
     "output_type": "execute_result"
    }
   ],
   "source": [
    "# Draw the circuit\n",
    "circuit.draw(output='mpl',scale=1.8)"
   ]
  },
  {
   "cell_type": "code",
   "execution_count": 11,
   "id": "175fc512-2e6e-487d-b567-f0b657a8d7af",
   "metadata": {},
   "outputs": [],
   "source": [
    "# Create a simulation instance\n",
    "simulator = aer.QasmSimulator() # Quantum Assembly language"
   ]
  },
  {
   "cell_type": "code",
   "execution_count": 12,
   "id": "98c179d1-1a15-4e6d-abdb-f7d23482e3a5",
   "metadata": {},
   "outputs": [],
   "source": [
    "# Compile the circuit in the simulator\n",
    "compile_circuit = qiskit.transpile(circuit,simulator)"
   ]
  },
  {
   "cell_type": "code",
   "execution_count": 35,
   "id": "5a9d6afb-2f6c-404e-85f4-f2118c4e8791",
   "metadata": {},
   "outputs": [],
   "source": [
    "# Simulate the circuit 500 times.\n",
    "job = simulator.run(compile_circuit, shots=500)"
   ]
  },
  {
   "cell_type": "code",
   "execution_count": 14,
   "id": "8a405e7d-3773-4b75-b710-567502d98fff",
   "metadata": {},
   "outputs": [],
   "source": [
    "# Results\n",
    "results = job.result()"
   ]
  },
  {
   "cell_type": "code",
   "execution_count": 17,
   "id": "88dfbf8c-b999-4290-b201-1a9b5577b6ed",
   "metadata": {},
   "outputs": [],
   "source": [
    "# Show the result counts\n",
    "counts = results.get_counts()"
   ]
  },
  {
   "cell_type": "code",
   "execution_count": 21,
   "id": "cdf8ca49-1349-4021-9ea6-7cdb03f82320",
   "metadata": {},
   "outputs": [
    {
     "data": {
      "image/png": "[encoded data removed]",
      "text/plain": [
       "<Figure size 72x288 with 1 Axes>"
      ]
     },
     "execution_count": 21,
     "metadata": {},
     "output_type": "execute_result"
    }
   ],
   "source": [
    "# Display histogram\n",
    "qiskit.visualization.plot_histogram(counts, figsize=(1,4))"
   ]
  },
  {
   "cell_type": "markdown",
   "id": "148f9613-e037-4dc8-9f40-6488964c5fe0",
   "metadata": {},
   "source": [
    "<br>\n",
    "\n",
    "## Constant one function\n",
    "***"
   ]
  },
  {
   "cell_type": "code",
   "execution_count": 27,
   "id": "7377da81-4692-406e-9093-1f1aa6fef23a",
   "metadata": {},
   "outputs": [
    {
     "data": {
      "image/png": "[encoded data removed]",
      "text/plain": [
       "<Figure size 589.054x368.424 with 1 Axes>"
      ]
     },
     "execution_count": 27,
     "metadata": {},
     "output_type": "execute_result"
    }
   ],
   "source": [
    "# Similar setup as with Constant zero function\n",
    "circuit = qiskit.QuantumCircuit(2,1)\n",
    "circuit.initialize([1,0],0)\n",
    "circuit.initialize([0,1],1)\n",
    "# Applying Hadamard gate to each cubit\n",
    "circuit.h((0,1))\n",
    "# X gate\n",
    "circuit.x(1)\n",
    "circuit.h(0)\n",
    "\n",
    "circuit.measure(0,0)\n",
    "# Draw the circuit\n",
    "circuit.draw(output='mpl',scale=1.8)"
   ]
  },
  {
   "cell_type": "markdown",
   "id": "264b8491-4f33-4afe-a17b-cf982172eec9",
   "metadata": {},
   "source": [
    "##### Simulate Constant One Function"
   ]
  },
  {
   "cell_type": "code",
   "execution_count": 30,
   "id": "6e931811-a1d1-4a5c-8fec-d818d6dc6405",
   "metadata": {},
   "outputs": [
    {
     "data": {
      "image/png": "[encoded data removed]",
      "text/plain": [
       "<Figure size 72x288 with 1 Axes>"
      ]
     },
     "execution_count": 30,
     "metadata": {},
     "output_type": "execute_result"
    }
   ],
   "source": [
    "simulator = aer.QasmSimulator() # Quantum Assembly language\n",
    "compile_circuit = qiskit.transpile(circuit,simulator)\n",
    "# Simulate the circuit 1000 times.\n",
    "job = simulator.run(compile_circuit, shots=1000)\n",
    "# Results\n",
    "results = job.result()\n",
    "\n",
    "# Display histogram\n",
    "qiskit.visualization.plot_histogram(counts, figsize=(1,4))"
   ]
  },
  {
   "cell_type": "markdown",
   "id": "20670d79-33c4-4992-94a3-1b700ba3747a",
   "metadata": {},
   "source": [
    "***"
   ]
  },
  {
   "cell_type": "markdown",
   "id": "11606e59-520b-4a33-8f83-b2b11f687878",
   "metadata": {},
   "source": [
    "<br>\n",
    "\n",
    "## Balanced Zero, One function \n",
    "$f(0) = 0,f(1) = 1$"
   ]
  },
  {
   "cell_type": "code",
   "execution_count": 31,
   "id": "573b73ee-a72d-4081-99af-3d0e916fe85b",
   "metadata": {},
   "outputs": [
    {
     "data": {
      "image/png": "[encoded data removed]",
      "text/plain": [
       "<Figure size 697.414x368.424 with 1 Axes>"
      ]
     },
     "execution_count": 31,
     "metadata": {},
     "output_type": "execute_result"
    }
   ],
   "source": [
    "circuit = qiskit.QuantumCircuit(2,1)\n",
    "circuit.initialize([1,0],0)\n",
    "circuit.initialize([0,1],1)\n",
    "# Applying Hadamard gate to each cubit\n",
    "circuit.h((0,1))\n",
    "# CNOT gate\n",
    "circuit.cnot(0,1)\n",
    "circuit.h(0)\n",
    "\n",
    "circuit.measure(0,0)\n",
    "# Draw the circuit\n",
    "circuit.draw(output='mpl',scale=1.8)"
   ]
  },
  {
   "cell_type": "markdown",
   "id": "dcb11b35-37cb-4305-ba29-22fca52428b7",
   "metadata": {},
   "source": [
    "***[CNOT](https://en.wikipedia.org/wiki/Controlled_NOT_gate)** Gate needs at least 2 qubits for input*"
   ]
  },
  {
   "cell_type": "markdown",
   "id": "73a33483-0874-4e1b-9799-01c8730a8dd4",
   "metadata": {},
   "source": [
    "##### Simulate Balanced Zero, One Function and its probability"
   ]
  },
  {
   "cell_type": "code",
   "execution_count": 32,
   "id": "ed4025e4-d7e4-47af-aa7a-3da5302d056f",
   "metadata": {},
   "outputs": [
    {
     "data": {
      "image/png": "[encoded data removed]",
      "text/plain": [
       "<Figure size 72x288 with 1 Axes>"
      ]
     },
     "execution_count": 32,
     "metadata": {},
     "output_type": "execute_result"
    }
   ],
   "source": [
    "simulator = aer.QasmSimulator() # Quantum Assembly language\n",
    "compile_circuit = qiskit.transpile(circuit,simulator)\n",
    "# Simulate the circuit 1000 times.\n",
    "job = simulator.run(compile_circuit, shots=1000)\n",
    "# Results\n",
    "results = job.result()\n",
    "\n",
    "counts = results.get_counts()\n",
    "\n",
    "# Display histogram\n",
    "qiskit.visualization.plot_histogram(counts, figsize=(1,4))"
   ]
  },
  {
   "cell_type": "markdown",
   "id": "d2e67178-3e9e-4805-9385-b2d5b656e4e2",
   "metadata": {},
   "source": [
    "<br>\n",
    "\n",
    "## Balanced One, Zero function \n",
    "$f(0) = 1,f(1) = 0$"
   ]
  },
  {
   "cell_type": "code",
   "execution_count": 33,
   "id": "e4520341-f467-4890-af8b-285a2839cb7b",
   "metadata": {},
   "outputs": [
    {
     "data": {
      "image/png": "[encoded data removed]",
      "text/plain": [
       "<Figure size 697.414x368.424 with 1 Axes>"
      ]
     },
     "execution_count": 33,
     "metadata": {},
     "output_type": "execute_result"
    }
   ],
   "source": [
    "circuit = qiskit.QuantumCircuit(2,1)\n",
    "circuit.initialize([1,0],0)\n",
    "circuit.initialize([0,1],1)\n",
    "# Applying Hadamard gate to each cubit\n",
    "circuit.h((0,1))\n",
    "# CNOT gate\n",
    "circuit.cnot(0,1)\n",
    "\n",
    "# Apply X to second qubit\n",
    "circuit.x(1)\n",
    "circuit.h(0)\n",
    "\n",
    "circuit.measure(0,0)\n",
    "# Draw the circuit\n",
    "circuit.draw(output='mpl',scale=1.8)"
   ]
  },
  {
   "cell_type": "markdown",
   "id": "86cb70ec-3f92-48d0-ac5a-b8fbaf9e5376",
   "metadata": {},
   "source": [
    "##### Simulate Balanced One, Zero Function and its probability"
   ]
  },
  {
   "cell_type": "code",
   "execution_count": 34,
   "id": "fa4c0c82-9874-4dcc-b060-2cd6259c43c0",
   "metadata": {},
   "outputs": [
    {
     "data": {
      "image/png": "[encoded data removed]",
      "text/plain": [
       "<Figure size 72x288 with 1 Axes>"
      ]
     },
     "execution_count": 34,
     "metadata": {},
     "output_type": "execute_result"
    }
   ],
   "source": [
    "simulator = aer.QasmSimulator() # Quantum Assembly language\n",
    "compile_circuit = qiskit.transpile(circuit,simulator)\n",
    "# Simulate the circuit 1000 times.\n",
    "job = simulator.run(compile_circuit, shots=1000)\n",
    "# Results\n",
    "results = job.result()\n",
    "\n",
    "counts = results.get_counts()\n",
    "\n",
    "# Display histogram\n",
    "qiskit.visualization.plot_histogram(counts, figsize=(1,4))"
   ]
  },
  {
   "cell_type": "code",
   "execution_count": null,
   "id": "b13cf283-e402-47e2-9e90-24f44858a1e6",
   "metadata": {},
   "outputs": [],
   "source": []
  },
  {
   "cell_type": "code",
   "execution_count": null,
   "id": "31806eef-c9f7-43f9-81f4-db5a63a48f0e",
   "metadata": {},
   "outputs": [],
   "source": []
  },
  {
   "cell_type": "markdown",
   "id": "bf88853b-23c1-4309-95c9-0b462728d361",
   "metadata": {},
   "source": [
    "# References\n",
    "***"
   ]
  },
  {
   "cell_type": "markdown",
   "id": "7e4f2f33-79d7-469b-8766-561dba7211de",
   "metadata": {},
   "source": [
    "<a id='section1'></a>[[1] Hadamard Gate](https://www.quantum-inspire.com/kbase/hadamard/)"
   ]
  },
  {
   "cell_type": "markdown",
   "id": "873e910d-d134-4c9d-b4ad-cd619d870f5f",
   "metadata": {},
   "source": [
    "<a id='section2'></a>[[2] Identity Gate](https://www.quantum-inspire.com/kbase/identity-gate/)"
   ]
  },
  {
   "cell_type": "markdown",
   "id": "6ff78792-9c5d-4db3-8325-14c416187ca4",
   "metadata": {},
   "source": [
    "<a id='section3'></a>[[3] Multiple Qubits](https://qiskit.org/textbook/ch-gates/multiple-qubits-entangled-states.html)"
   ]
  },
  {
   "cell_type": "markdown",
   "id": "7e815510-065b-4346-b029-91a1586664f8",
   "metadata": {},
   "source": [
    "<a id='section4'></a>[[4] CNOT Gate](https://www.quantum-inspire.com/kbase/cnot/)"
   ]
  },
  {
   "cell_type": "code",
   "execution_count": null,
   "id": "cc8ed84a-e1fa-439d-aa8e-111f74db82c8",
   "metadata": {},
   "outputs": [],
   "source": []
  }
 ],
 "metadata": {
  "kernelspec": {
   "display_name": "Python 3 (ipykernel)",
   "language": "python",
   "name": "python3"
  },
  "language_info": {
   "codemirror_mode": {
    "name": "ipython",
    "version": 3
   },
   "file_extension": ".py",
   "mimetype": "text/x-python",
   "name": "python",
   "nbconvert_exporter": "python",
   "pygments_lexer": "ipython3",
   "version": "3.9.7"
  }
 },
 "nbformat": 4,
 "nbformat_minor": 5
}
