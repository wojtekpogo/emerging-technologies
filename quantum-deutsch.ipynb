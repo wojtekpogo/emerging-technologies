{
 "cells": [
  {
   "cell_type": "markdown",
   "id": "0b901778-28e9-444f-82dd-debec34f9ccf",
   "metadata": {},
   "source": [
    "# Quantum Comping vs Classical Computing\n",
    "***"
   ]
  },
  {
   "cell_type": "markdown",
   "id": "1e7f716f-8043-4ccb-856f-d12162bf771a",
   "metadata": {},
   "source": [
    "## What is Quantum Computing\n",
    "***"
   ]
  },
  {
   "cell_type": "markdown",
   "id": "feb28eab-7c7a-462d-a2bb-0a26942b79c3",
   "metadata": {},
   "source": [
    "Since the 1960's, the power of computers has kept growing exponentially, allowing them to get smaller and more powerful at the same time.\n",
    "But this process is about to meet its physical limits. Computer parts are approaching the size of an atom.\n",
    "A computer is made up of very simple components,doing very simple things such as representing data, the means of processing it, and control mechanisms.\n",
    "Computer chips contain modules, which contain logic gates, which contain transistors. A transistor is the simplest form of a data processor in computers, basically a switch that can either block, or open the way for information coming through. This information is made up of bits, which can be set to either 0 or 1."
   ]
  },
  {
   "cell_type": "code",
   "execution_count": null,
   "id": "f7d32da8-f84c-4604-a655-763b6399ead0",
   "metadata": {},
   "outputs": [],
   "source": []
  },
  {
   "cell_type": "code",
   "execution_count": null,
   "id": "ef116699-f2c8-4dc4-a91e-3650d35586f1",
   "metadata": {},
   "outputs": [],
   "source": []
  },
  {
   "cell_type": "code",
   "execution_count": null,
   "id": "403fc152-a23f-4bad-9173-f39960729493",
   "metadata": {},
   "outputs": [],
   "source": []
  },
  {
   "cell_type": "code",
   "execution_count": null,
   "id": "3ac444fc-4b88-4fb3-94da-9ccf77d1b6e2",
   "metadata": {},
   "outputs": [],
   "source": []
  },
  {
   "cell_type": "code",
   "execution_count": null,
   "id": "ffbe6980-f7d9-4345-8d4c-0c2027735789",
   "metadata": {},
   "outputs": [],
   "source": []
  },
  {
   "cell_type": "code",
   "execution_count": null,
   "id": "b68ec2a7-66ed-4e28-9596-5d90194e9502",
   "metadata": {},
   "outputs": [],
   "source": []
  },
  {
   "cell_type": "code",
   "execution_count": null,
   "id": "486a829f-e853-4e05-99c0-42edccf39463",
   "metadata": {},
   "outputs": [],
   "source": []
  }
 ],
 "metadata": {
  "kernelspec": {
   "display_name": "Python 3",
   "language": "python",
   "name": "python3"
  },
  "language_info": {
   "codemirror_mode": {
    "name": "ipython",
    "version": 3
   },
   "file_extension": ".py",
   "mimetype": "text/x-python",
   "name": "python",
   "nbconvert_exporter": "python",
   "pygments_lexer": "ipython3",
   "version": "3.8.8"
  }
 },
 "nbformat": 4,
 "nbformat_minor": 5
}
