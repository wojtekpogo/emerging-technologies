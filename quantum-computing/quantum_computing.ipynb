{
 "cells": [
  {
   "cell_type": "markdown",
   "id": "08459012-0a3b-475a-861e-6bc4fbbcddcf",
   "metadata": {},
   "source": [
    "# Quantum Computing\n",
    "***"
   ]
  },
  {
   "cell_type": "markdown",
   "id": "78ff5ba1-b97b-4230-b155-432be7aebae0",
   "metadata": {},
   "source": [
    "### What is Quantum Computing ?"
   ]
  },
  {
   "cell_type": "code",
   "execution_count": null,
   "id": "dd401bf1-8e02-4e9b-9a8e-6e40a7e60897",
   "metadata": {},
   "outputs": [],
   "source": []
  },
  {
   "cell_type": "code",
   "execution_count": null,
   "id": "3602e5ca-97f3-4c39-9b08-6a4db9773b93",
   "metadata": {},
   "outputs": [],
   "source": []
  },
  {
   "cell_type": "code",
   "execution_count": null,
   "id": "0bf8d204-fb48-4c5b-a4ea-6e17859c15cc",
   "metadata": {},
   "outputs": [],
   "source": []
  },
  {
   "cell_type": "code",
   "execution_count": null,
   "id": "01341f03-a21c-4b5e-a2a0-88274467fdf8",
   "metadata": {},
   "outputs": [],
   "source": []
  },
  {
   "cell_type": "code",
   "execution_count": null,
   "id": "04e8f979-453f-403a-9d69-20ebfa7a47f8",
   "metadata": {},
   "outputs": [],
   "source": []
  },
  {
   "cell_type": "code",
   "execution_count": null,
   "id": "89558fda-2d33-4e48-ba42-e6550b969077",
   "metadata": {},
   "outputs": [],
   "source": []
  },
  {
   "cell_type": "code",
   "execution_count": null,
   "id": "5c9f20f3-f11a-40c0-a021-a97d9c8a9805",
   "metadata": {},
   "outputs": [],
   "source": [
    "import qiskit"
   ]
  },
  {
   "cell_type": "code",
   "execution_count": 3,
   "id": "c9262084-6ead-4a9b-a323-d2a1c2def03d",
   "metadata": {},
   "outputs": [],
   "source": [
    "import numpy"
   ]
  },
  {
   "cell_type": "code",
   "execution_count": null,
   "id": "e2128261-cd64-4edf-9d94-d31a78de0dfc",
   "metadata": {},
   "outputs": [],
   "source": []
  },
  {
   "cell_type": "code",
   "execution_count": null,
   "id": "392c57b5-2952-4544-8326-9fb0c61a0847",
   "metadata": {},
   "outputs": [],
   "source": []
  },
  {
   "cell_type": "code",
   "execution_count": 2,
   "id": "1bbd78fe-a0f5-4a6b-aee4-5d76971277ab",
   "metadata": {},
   "outputs": [],
   "source": []
  },
  {
   "cell_type": "code",
   "execution_count": null,
   "id": "65adfd3c-aedc-4d5d-a243-fcaf29942f96",
   "metadata": {},
   "outputs": [],
   "source": []
  }
 ],
 "metadata": {
  "kernelspec": {
   "display_name": "Python 3 (ipykernel)",
   "language": "python",
   "name": "python3"
  },
  "language_info": {
   "codemirror_mode": {
    "name": "ipython",
    "version": 3
   },
   "file_extension": ".py",
   "mimetype": "text/x-python",
   "name": "python",
   "nbconvert_exporter": "python",
   "pygments_lexer": "ipython3",
   "version": "3.9.7"
  }
 },
 "nbformat": 4,
 "nbformat_minor": 5
}
