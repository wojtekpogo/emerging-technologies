{
 "cells": [
  {
   "cell_type": "markdown",
   "id": "e258b997-2556-4dc3-97ac-5e2e6839c827",
   "metadata": {},
   "source": [
    "# Balanced or Constant Functions"
   ]
  },
  {
   "cell_type": "markdown",
   "id": "4b564c46-bd0d-4a05-b906-2e95809c1c0a",
   "metadata": {},
   "source": [
    "\n",
    "## One bit inputs\n",
    "***\n",
    "\n",
    "$x$ is a bit.\n",
    "It's possible values are 0 and 1"
   ]
  },
  {
   "cell_type": "code",
   "execution_count": 4,
   "id": "6c9eaf5f-fc3c-40ac-ba66-f2608402b14c",
   "metadata": {},
   "outputs": [],
   "source": [
    "import random\n",
    "# Permutations and combinations\n",
    "import itertools"
   ]
  },
  {
   "cell_type": "code",
   "execution_count": 3,
   "id": "6919d6f9-3154-48b4-b26a-8dc459cbf05e",
   "metadata": {},
   "outputs": [],
   "source": [
    "# Constant function\n",
    "def f_a(x):\n",
    "    return 1"
   ]
  },
  {
   "cell_type": "code",
   "execution_count": 4,
   "id": "67928cb8-0760-4117-b403-bc54722f3197",
   "metadata": {},
   "outputs": [
    {
     "data": {
      "text/plain": [
       "1"
      ]
     },
     "execution_count": 4,
     "metadata": {},
     "output_type": "execute_result"
    }
   ],
   "source": [
    "f_a(0)"
   ]
  },
  {
   "cell_type": "code",
   "execution_count": 5,
   "id": "0df02625-d37a-4284-8a87-24aaec5b21f1",
   "metadata": {},
   "outputs": [],
   "source": [
    "# Constant function\n",
    "def f_b(x):\n",
    "    return 0"
   ]
  },
  {
   "cell_type": "code",
   "execution_count": 6,
   "id": "813f9799-cb9e-4f4b-824c-efd79a12c5c8",
   "metadata": {},
   "outputs": [
    {
     "data": {
      "text/plain": [
       "0"
      ]
     },
     "execution_count": 6,
     "metadata": {},
     "output_type": "execute_result"
    }
   ],
   "source": [
    "f_b(0)"
   ]
  },
  {
   "cell_type": "code",
   "execution_count": 7,
   "id": "33e66d6d-febb-46ff-96e3-038c6f5e06ce",
   "metadata": {},
   "outputs": [],
   "source": [
    "# Balanced function\n",
    "def f_c(x):\n",
    "    return x"
   ]
  },
  {
   "cell_type": "code",
   "execution_count": 8,
   "id": "db35941f-10ed-4a70-9615-968a357b2f3d",
   "metadata": {},
   "outputs": [
    {
     "data": {
      "text/plain": [
       "6"
      ]
     },
     "execution_count": 8,
     "metadata": {},
     "output_type": "execute_result"
    }
   ],
   "source": [
    "f_c(6)"
   ]
  },
  {
   "cell_type": "code",
   "execution_count": 17,
   "id": "a785c255-11c2-4d0e-bc55-df226dbfe070",
   "metadata": {},
   "outputs": [],
   "source": [
    "# Balanced function\n",
    "def f_d(x):\n",
    "    return ((x + 1) % 2)"
   ]
  },
  {
   "cell_type": "markdown",
   "id": "99fda158-308d-4a73-a31b-97588701aac0",
   "metadata": {},
   "source": [
    "| x | f_a(x) | f_b(x) | f_c(x) | f_d(x) |\n",
    "| :-: | :-: | :-: | :-: | :-: |\n",
    "| **0** | 1 | 0 | 0 | 1 |\n",
    "| **1** | 1 | 0 | 1 | 0 |"
   ]
  },
  {
   "cell_type": "markdown",
   "id": "2533f054-e5d4-4ae6-a877-5f41f5ed161b",
   "metadata": {},
   "source": [
    "## Pick one of the functions at random"
   ]
  },
  {
   "cell_type": "code",
   "execution_count": 10,
   "id": "a6727c73-dde2-4c77-94ca-b7460312c5b5",
   "metadata": {},
   "outputs": [],
   "source": [
    "# Four functions in the list\n",
    "funcs = [f_a,f_b,f_c,f_d]"
   ]
  },
  {
   "cell_type": "code",
   "execution_count": 13,
   "id": "81cc95c6-92c6-4c2c-ad7c-13f9c8d5ecbd",
   "metadata": {},
   "outputs": [
    {
     "data": {
      "text/plain": [
       "<function __main__.f_c(x)>"
      ]
     },
     "execution_count": 13,
     "metadata": {},
     "output_type": "execute_result"
    }
   ],
   "source": [
    "# Select function from the list at random\n",
    "random.choice(funcs)"
   ]
  },
  {
   "cell_type": "code",
   "execution_count": 14,
   "id": "2fd922a1-dc1b-4236-bc68-8857fc201a23",
   "metadata": {},
   "outputs": [],
   "source": [
    "f = random.choice(funcs)"
   ]
  },
  {
   "cell_type": "markdown",
   "id": "0f813c7a-db38-484a-abc8-9991b63c763a",
   "metadata": {},
   "source": [
    "## Test for balanced or constant\n",
    "***"
   ]
  },
  {
   "cell_type": "code",
   "execution_count": 15,
   "id": "65ae8107-32fe-499c-a04d-2808135f29bc",
   "metadata": {},
   "outputs": [
    {
     "data": {
      "text/plain": [
       "1"
      ]
     },
     "execution_count": 15,
     "metadata": {},
     "output_type": "execute_result"
    }
   ],
   "source": [
    "f(0)"
   ]
  },
  {
   "cell_type": "code",
   "execution_count": 16,
   "id": "869ea782-29bf-45c5-97cf-5e1a93a3a663",
   "metadata": {},
   "outputs": [
    {
     "data": {
      "text/plain": [
       "1"
      ]
     },
     "execution_count": 16,
     "metadata": {},
     "output_type": "execute_result"
    }
   ],
   "source": [
    "f(1)"
   ]
  },
  {
   "cell_type": "markdown",
   "id": "9bba75e2-d260-4c22-82d6-070a2ba8cf2f",
   "metadata": {},
   "source": [
    "*We had to check 2 inputs to determine wheter the function was balanced or constant.*"
   ]
  },
  {
   "cell_type": "markdown",
   "id": "094305e7-4a9f-4e23-a7b2-a8a708e0efde",
   "metadata": {},
   "source": [
    "## Two bits\n",
    "***"
   ]
  },
  {
   "cell_type": "markdown",
   "id": "62029a85-b51b-4609-bc29-f3950cf1b7b7",
   "metadata": {},
   "source": [
    "| x1 | x2 | f | f | f | f | f | f | f | f | f | f | f | f | f | f | f | f |\n",
    "| :-: | :-: | :-: | :-: | :-: | :-: | :-: | :-: | :-: | :-: | :-: | :-: | :-: | :-: | :-: | :-: | :-: | :-: |\n",
    "| **0** |**0** | 0 | 0 | 0 | 0 | 0  | 0 | 0 | 0 | 1 | 1 | 1 |1 |1 |1 |1 |1 |\n",
    "| **0** |**1** | 0 | 0 | 0 | 0 | 1 | 1 | 1 | 1 |  0 | 0 | 0 | 0 | 1 | 1 | 1 | 1 | \n",
    "| **1** |**0** | 0 | 0 | 1 | 1 | 0 | 0 | 1 | 1 | 0 | 0 | 1 | 1 | 0 | 0 | 1 | 1 |\n",
    "| **1** |**1** | 0 | 1 | 0 | 1 | 0 | 1 | 0 | 1 | 0 | 1 | 0 | 1 | 0 | 1 | 0 | 1 |"
   ]
  },
  {
   "cell_type": "code",
   "execution_count": 18,
   "id": "bba82892-b9af-4b41-8bc9-06cb6116677c",
   "metadata": {},
   "outputs": [
    {
     "data": {
      "text/plain": [
       "4"
      ]
     },
     "execution_count": 18,
     "metadata": {},
     "output_type": "execute_result"
    }
   ],
   "source": [
    "2**2**1"
   ]
  },
  {
   "cell_type": "code",
   "execution_count": 19,
   "id": "2390a57b-2431-4c01-b1aa-dc9ecbcf03f6",
   "metadata": {},
   "outputs": [
    {
     "data": {
      "text/plain": [
       "16"
      ]
     },
     "execution_count": 19,
     "metadata": {},
     "output_type": "execute_result"
    }
   ],
   "source": [
    "2**2**2"
   ]
  },
  {
   "cell_type": "code",
   "execution_count": 21,
   "id": "987e44b4-6763-49c9-a85d-a74c716cdb8e",
   "metadata": {},
   "outputs": [
    {
     "data": {
      "text/plain": [
       "256"
      ]
     },
     "execution_count": 21,
     "metadata": {},
     "output_type": "execute_result"
    }
   ],
   "source": [
    "2**2**3"
   ]
  },
  {
   "cell_type": "code",
   "execution_count": 1,
   "id": "ba1164d0-bc4f-4288-8ab7-88321f7214fa",
   "metadata": {},
   "outputs": [],
   "source": [
    "# Number of input bits\n",
    "n = 2\n"
   ]
  },
  {
   "cell_type": "code",
   "execution_count": 2,
   "id": "f645d809-e0fc-45d8-96c3-881b9f5a5fea",
   "metadata": {},
   "outputs": [
    {
     "data": {
      "text/plain": [
       "[0, 0, 0, 0]"
      ]
     },
     "execution_count": 2,
     "metadata": {},
     "output_type": "execute_result"
    }
   ],
   "source": [
    "# The zeros constant function\n",
    "[0] * 2**n"
   ]
  },
  {
   "cell_type": "code",
   "execution_count": 3,
   "id": "c4e2c49a-6480-4306-974b-a15b9c4d0ce3",
   "metadata": {},
   "outputs": [
    {
     "data": {
      "text/plain": [
       "[1, 1, 1, 1]"
      ]
     },
     "execution_count": 3,
     "metadata": {},
     "output_type": "execute_result"
    }
   ],
   "source": [
    "[1] * 2**n"
   ]
  },
  {
   "cell_type": "code",
   "execution_count": 9,
   "id": "8b2df35d-d62a-4343-9167-9e0a2b5dbd72",
   "metadata": {},
   "outputs": [
    {
     "data": {
      "text/plain": [
       "[[1, 1, 0, 0],\n",
       " [1, 0, 1, 0],\n",
       " [1, 0, 0, 1],\n",
       " [0, 1, 1, 0],\n",
       " [0, 1, 0, 1],\n",
       " [0, 0, 1, 1]]"
      ]
     },
     "execution_count": 9,
     "metadata": {},
     "output_type": "execute_result"
    }
   ],
   "source": [
    "# Generate the balanced functions\n",
    "# Adapted from https://stackoverflow.com/a/43817007\n",
    "def balanced_functions(input_bits):\n",
    "    # The length of the lsit is 2 to ther power of input_bits\n",
    "    size = 2**input_bits\n",
    "    # The number of ones is half the length of the list\n",
    "    count = size //2 #integer division\n",
    "    for positions in itertools.combinations(range(size), count):\n",
    "        # Create a list of zeros\n",
    "        p = [0] * size\n",
    "        # Set positions to 1's.\n",
    "        for i in positions:\n",
    "            p[i] = 1\n",
    "        # Generate the list.\n",
    "        yield p\n",
    "list(balanced_functions(2))"
   ]
  },
  {
   "cell_type": "code",
   "execution_count": 13,
   "id": "13e895d5-5495-4c44-a1b8-a79784dfce7c",
   "metadata": {},
   "outputs": [],
   "source": [
    "# Generate all the constant and balanced functions\n",
    "def generate_functions(n):\n",
    "    return list(balanced_functions(n))+[[0] * 2**n, [1] * 2**n]\n",
    "    "
   ]
  },
  {
   "cell_type": "code",
   "execution_count": 14,
   "id": "dc63f413-f485-4db3-ac25-2e15d65abea8",
   "metadata": {},
   "outputs": [
    {
     "data": {
      "text/plain": [
       "[[1, 1, 0, 0],\n",
       " [1, 0, 1, 0],\n",
       " [1, 0, 0, 1],\n",
       " [0, 1, 1, 0],\n",
       " [0, 1, 0, 1],\n",
       " [0, 0, 1, 1],\n",
       " [0, 0, 0, 0],\n",
       " [1, 1, 1, 1]]"
      ]
     },
     "execution_count": 14,
     "metadata": {},
     "output_type": "execute_result"
    }
   ],
   "source": [
    "# Generate all the functions.\n",
    "generate_functions(n)"
   ]
  },
  {
   "cell_type": "code",
   "execution_count": 15,
   "id": "ad54d96d-0e25-443c-8669-fa309c258445",
   "metadata": {},
   "outputs": [],
   "source": [
    "def randomf(n):\n",
    "    # Get all balanced and constant functions as lists\n",
    "    funcs = generate_functions(n)\n",
    "    # Return a random functions\n",
    "    return random.choice(funcs)"
   ]
  },
  {
   "cell_type": "code",
   "execution_count": 23,
   "id": "b55b752f-b74e-4bfb-a447-2e00dce0f28f",
   "metadata": {},
   "outputs": [],
   "source": [
    "# Call randomf for 2 input bits\n",
    "f = randomf(2)"
   ]
  },
  {
   "cell_type": "code",
   "execution_count": 24,
   "id": "4ebe0936-ee4a-4f97-8d77-39e24a5a550b",
   "metadata": {},
   "outputs": [
    {
     "data": {
      "text/plain": [
       "[0, 1, 1, 0]"
      ]
     },
     "execution_count": 24,
     "metadata": {},
     "output_type": "execute_result"
    }
   ],
   "source": [
    "# A list\n",
    "f"
   ]
  },
  {
   "cell_type": "code",
   "execution_count": 52,
   "id": "f38e50f9-e67e-4a64-9a1e-f320211fc880",
   "metadata": {},
   "outputs": [],
   "source": [
    "def randomf(n):\n",
    "    # Get all balanced and constant functions as lists\n",
    "    funcs = generate_functions(n)\n",
    "    # Pick one at random.\n",
    "    retvals =  random.choice(funcs)\n",
    "    # Create a function wthin a function\n",
    "    def f(*x): # x is a list of arguments\n",
    "        #x = list(x)\n",
    "        # Reverse the bits.\n",
    "        x = x[::-1]\n",
    "        # Running total for position in list for output bit.\n",
    "        retpos = 0\n",
    "        # Loop through the elements in x (reveresed)\n",
    "        for i in range(len(x)):\n",
    "            # Multiply i pos of x by 2^i\n",
    "            retpos = retpos + (x[i] * 2**i)\n",
    "        return retvals[retpos]\n",
    "    # Function returns a function\n",
    "    return f\n",
    "        "
   ]
  },
  {
   "cell_type": "code",
   "execution_count": 53,
   "id": "472edd2c-e05d-4816-8b3c-18a08e5b8c48",
   "metadata": {},
   "outputs": [
    {
     "data": {
      "text/plain": [
       "<function __main__.randomf.<locals>.f(*x)>"
      ]
     },
     "execution_count": 53,
     "metadata": {},
     "output_type": "execute_result"
    }
   ],
   "source": [
    "# Get a randomn function that takes 2 bits as input\n",
    "randomf(2)"
   ]
  },
  {
   "cell_type": "code",
   "execution_count": 68,
   "id": "e39c862c-6e22-4c2e-b58f-9111bbdd542c",
   "metadata": {},
   "outputs": [],
   "source": [
    "f = randomf(2)"
   ]
  },
  {
   "cell_type": "code",
   "execution_count": 55,
   "id": "efe58ae3-089a-4fbb-8a41-6dfe15889e49",
   "metadata": {},
   "outputs": [
    {
     "data": {
      "text/plain": [
       "1"
      ]
     },
     "execution_count": 55,
     "metadata": {},
     "output_type": "execute_result"
    }
   ],
   "source": [
    "# Sample calls\n",
    "f(1,1)"
   ]
  },
  {
   "cell_type": "code",
   "execution_count": 56,
   "id": "7eac0b64-a180-4d78-b997-e09d64004de6",
   "metadata": {},
   "outputs": [
    {
     "data": {
      "text/plain": [
       "1"
      ]
     },
     "execution_count": 56,
     "metadata": {},
     "output_type": "execute_result"
    }
   ],
   "source": [
    "f(0,1)"
   ]
  },
  {
   "cell_type": "markdown",
   "id": "807380ca-c5c2-4198-96d5-8792da654135",
   "metadata": {},
   "source": [
    "## Classical Algorithm"
   ]
  },
  {
   "cell_type": "code",
   "execution_count": 80,
   "id": "794a52df-cd5d-4de6-ad7a-cae56f346005",
   "metadata": {},
   "outputs": [],
   "source": [
    "# Number of input bits.\n",
    "n =2"
   ]
  },
  {
   "cell_type": "code",
   "execution_count": 81,
   "id": "603ea897-974b-4232-928f-789b00f20ff9",
   "metadata": {},
   "outputs": [],
   "source": [
    "# Generate a random constant or balanced function\n",
    "# with n input bits.\n",
    "f = randomf(n)"
   ]
  },
  {
   "cell_type": "code",
   "execution_count": 82,
   "id": "8045ea10-59b4-4a2b-bfa9-232cb8f99390",
   "metadata": {},
   "outputs": [
    {
     "data": {
      "text/plain": [
       "[(0, 0), (0, 1), (1, 0), (1, 1)]"
      ]
     },
     "execution_count": 82,
     "metadata": {},
     "output_type": "execute_result"
    }
   ],
   "source": [
    "list(itertools.product(*[(0,1)] * n))"
   ]
  },
  {
   "cell_type": "code",
   "execution_count": 83,
   "id": "204aba76-29b2-4f1b-9256-751c0b80f249",
   "metadata": {},
   "outputs": [],
   "source": [
    "def balanced_or_constant(f,n):\n",
    "    # Last returned value\n",
    "    last = None\n",
    "    # Keep track of no of iterations\n",
    "    i =0\n",
    "    # Loop through all possible inputs.\n",
    "    for inputs in itertools.product(*[(0,1)] * n):\n",
    "        # try this input on f\n",
    "        current = f(*inputs)\n",
    "        # Print a debug message\n",
    "        print(f\"Trying: {inputs} Return: {current} Last:{last}\")\n",
    "        # Compare last to current\n",
    "        if last is not None and  current != last:\n",
    "            constant = False\n",
    "            break\n",
    "        last = current\n",
    "        # increment the iteration count\n",
    "        i = i+1\n",
    "        # Have we performed 2^(n-1)+ 1 iterartions\n",
    "        if i > 2**(n-1):\n",
    "            break\n",
    "    if constant:\n",
    "        print(\"Constant\")\n",
    "    else:\n",
    "        print(\"Balanced\")"
   ]
  },
  {
   "cell_type": "code",
   "execution_count": 84,
   "id": "afed2ec8-bf28-491b-aac8-e66c0df7d7c0",
   "metadata": {},
   "outputs": [
    {
     "name": "stdout",
     "output_type": "stream",
     "text": [
      "Trying: (0, 0) Return: 0 Last:None\n",
      "Trying: (0, 1) Return: 1 Last:0\n",
      "Balanced\n"
     ]
    }
   ],
   "source": [
    "balanced_or_constant(f,n)"
   ]
  },
  {
   "cell_type": "code",
   "execution_count": null,
   "id": "e1f25929-b0fa-46e2-b857-2c0f134adf64",
   "metadata": {},
   "outputs": [],
   "source": []
  },
  {
   "cell_type": "markdown",
   "id": "348d9fe4-fb98-45b1-a32e-b11f38b13f53",
   "metadata": {},
   "source": [
    "## More than 2 bits\n",
    "    "
   ]
  },
  {
   "cell_type": "code",
   "execution_count": 86,
   "id": "8215aea7-2e0a-40bc-a583-6fd722122836",
   "metadata": {},
   "outputs": [],
   "source": [
    "# 5 input bits\n",
    "n = 4"
   ]
  },
  {
   "cell_type": "code",
   "execution_count": null,
   "id": "dd2b324b-ee0b-482e-a635-4c149492c05e",
   "metadata": {},
   "outputs": [],
   "source": [
    "f = randomf(n)"
   ]
  },
  {
   "cell_type": "code",
   "execution_count": null,
   "id": "d88350e8-cde3-4442-a062-11b569628069",
   "metadata": {},
   "outputs": [],
   "source": []
  }
 ],
 "metadata": {
  "kernelspec": {
   "display_name": "Python 3",
   "language": "python",
   "name": "python3"
  },
  "language_info": {
   "codemirror_mode": {
    "name": "ipython",
    "version": 3
   },
   "file_extension": ".py",
   "mimetype": "text/x-python",
   "name": "python",
   "nbconvert_exporter": "python",
   "pygments_lexer": "ipython3",
   "version": "3.8.8"
  }
 },
 "nbformat": 4,
 "nbformat_minor": 5
}
