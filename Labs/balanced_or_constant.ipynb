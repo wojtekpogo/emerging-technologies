{
 "cells": [
  {
   "cell_type": "markdown",
   "id": "e258b997-2556-4dc3-97ac-5e2e6839c827",
   "metadata": {},
   "source": [
    "# Balanced or Constant Functions"
   ]
  },
  {
   "cell_type": "markdown",
   "id": "4b564c46-bd0d-4a05-b906-2e95809c1c0a",
   "metadata": {},
   "source": [
    "\n",
    "## One bit inputs\n",
    "***\n",
    "\n",
    "$x$ is a bit.\n",
    "It's possible values are 0 and 1"
   ]
  },
  {
   "cell_type": "code",
   "execution_count": 11,
   "id": "6c9eaf5f-fc3c-40ac-ba66-f2608402b14c",
   "metadata": {},
   "outputs": [],
   "source": [
    "import random"
   ]
  },
  {
   "cell_type": "code",
   "execution_count": 3,
   "id": "6919d6f9-3154-48b4-b26a-8dc459cbf05e",
   "metadata": {},
   "outputs": [],
   "source": [
    "# Constant function\n",
    "def f_a(x):\n",
    "    return 1"
   ]
  },
  {
   "cell_type": "code",
   "execution_count": 4,
   "id": "67928cb8-0760-4117-b403-bc54722f3197",
   "metadata": {},
   "outputs": [
    {
     "data": {
      "text/plain": [
       "1"
      ]
     },
     "execution_count": 4,
     "metadata": {},
     "output_type": "execute_result"
    }
   ],
   "source": [
    "f_a(0)"
   ]
  },
  {
   "cell_type": "code",
   "execution_count": 5,
   "id": "0df02625-d37a-4284-8a87-24aaec5b21f1",
   "metadata": {},
   "outputs": [],
   "source": [
    "# Constant function\n",
    "def f_b(x):\n",
    "    return 0"
   ]
  },
  {
   "cell_type": "code",
   "execution_count": 6,
   "id": "813f9799-cb9e-4f4b-824c-efd79a12c5c8",
   "metadata": {},
   "outputs": [
    {
     "data": {
      "text/plain": [
       "0"
      ]
     },
     "execution_count": 6,
     "metadata": {},
     "output_type": "execute_result"
    }
   ],
   "source": [
    "f_b(0)"
   ]
  },
  {
   "cell_type": "code",
   "execution_count": 7,
   "id": "33e66d6d-febb-46ff-96e3-038c6f5e06ce",
   "metadata": {},
   "outputs": [],
   "source": [
    "# Balanced function\n",
    "def f_c(x):\n",
    "    return x"
   ]
  },
  {
   "cell_type": "code",
   "execution_count": 8,
   "id": "db35941f-10ed-4a70-9615-968a357b2f3d",
   "metadata": {},
   "outputs": [
    {
     "data": {
      "text/plain": [
       "6"
      ]
     },
     "execution_count": 8,
     "metadata": {},
     "output_type": "execute_result"
    }
   ],
   "source": [
    "f_c(6)"
   ]
  },
  {
   "cell_type": "code",
   "execution_count": 17,
   "id": "a785c255-11c2-4d0e-bc55-df226dbfe070",
   "metadata": {},
   "outputs": [],
   "source": [
    "# Balanced function\n",
    "def f_d(x):\n",
    "    return ((x + 1) % 2)"
   ]
  },
  {
   "cell_type": "markdown",
   "id": "99fda158-308d-4a73-a31b-97588701aac0",
   "metadata": {},
   "source": [
    "| x | f_a(x) | f_b(x) | f_c(x) | f_d(x) |\n",
    "| :-: | :-: | :-: | :-: | :-: |\n",
    "| **0** | 1 | 0 | 0 | 1 |\n",
    "| **1** | 1 | 0 | 1 | 0 |"
   ]
  },
  {
   "cell_type": "markdown",
   "id": "2533f054-e5d4-4ae6-a877-5f41f5ed161b",
   "metadata": {},
   "source": [
    "## Pick one of the functions at random"
   ]
  },
  {
   "cell_type": "code",
   "execution_count": 10,
   "id": "a6727c73-dde2-4c77-94ca-b7460312c5b5",
   "metadata": {},
   "outputs": [],
   "source": [
    "# Four functions in the list\n",
    "funcs = [f_a,f_b,f_c,f_d]"
   ]
  },
  {
   "cell_type": "code",
   "execution_count": 13,
   "id": "81cc95c6-92c6-4c2c-ad7c-13f9c8d5ecbd",
   "metadata": {},
   "outputs": [
    {
     "data": {
      "text/plain": [
       "<function __main__.f_c(x)>"
      ]
     },
     "execution_count": 13,
     "metadata": {},
     "output_type": "execute_result"
    }
   ],
   "source": [
    "# Select function from the list at random\n",
    "random.choice(funcs)"
   ]
  },
  {
   "cell_type": "code",
   "execution_count": 14,
   "id": "2fd922a1-dc1b-4236-bc68-8857fc201a23",
   "metadata": {},
   "outputs": [],
   "source": [
    "f = random.choice(funcs)"
   ]
  },
  {
   "cell_type": "markdown",
   "id": "0f813c7a-db38-484a-abc8-9991b63c763a",
   "metadata": {},
   "source": [
    "## Test for balanced or constant\n",
    "***"
   ]
  },
  {
   "cell_type": "code",
   "execution_count": 15,
   "id": "65ae8107-32fe-499c-a04d-2808135f29bc",
   "metadata": {},
   "outputs": [
    {
     "data": {
      "text/plain": [
       "1"
      ]
     },
     "execution_count": 15,
     "metadata": {},
     "output_type": "execute_result"
    }
   ],
   "source": [
    "f(0)"
   ]
  },
  {
   "cell_type": "code",
   "execution_count": 16,
   "id": "869ea782-29bf-45c5-97cf-5e1a93a3a663",
   "metadata": {},
   "outputs": [
    {
     "data": {
      "text/plain": [
       "1"
      ]
     },
     "execution_count": 16,
     "metadata": {},
     "output_type": "execute_result"
    }
   ],
   "source": [
    "f(1)"
   ]
  },
  {
   "cell_type": "markdown",
   "id": "9bba75e2-d260-4c22-82d6-070a2ba8cf2f",
   "metadata": {},
   "source": [
    "*We had to check 2 inputs to determine wheter the function was balanced or constant.*"
   ]
  },
  {
   "cell_type": "markdown",
   "id": "094305e7-4a9f-4e23-a7b2-a8a708e0efde",
   "metadata": {},
   "source": [
    "## Two bits"
   ]
  },
  {
   "cell_type": "markdown",
   "id": "62029a85-b51b-4609-bc29-f3950cf1b7b7",
   "metadata": {},
   "source": [
    "| x1 | x2 | f | f | f | f | f | f | f | f | f | f | f | f | f | f | f | f |\n",
    "| :-: | :-: | :-: | :-: | :-: | :-: | :-: | :-: | :-: | :-: | :-: | :-: | :-: | :-: | :-: | :-: | :-: | :-: |\n",
    "| **0** |**0** | 0 | 0 | 0 | 0 | 0  | 0 | 0 | 0 | 1 | 1 | 1 |1 |1 |1 |1 |1 |\n",
    "| **0** |**1** | 0 | 0 | 0 | 0 | 1 | 1 | 1 | 1 |  0 | 0 | 0 | 0 | 1 | 1 | 1 | 1 | \n",
    "| **1** |**0** | 0 | 0 | 1 | 1 | 0 | 0 | 1 | 1 | 0 | 0 | 1 | 1 | 0 | 0 | 1 | 1 |\n",
    "| **1** |**1** | 0 | 1 | 0 | 1 | 0 | 1 | 0 | 1 | 0 | 1 | 0 | 1 | 0 | 1 | 0 | 1 |"
   ]
  },
  {
   "cell_type": "code",
   "execution_count": 18,
   "id": "bba82892-b9af-4b41-8bc9-06cb6116677c",
   "metadata": {},
   "outputs": [
    {
     "data": {
      "text/plain": [
       "4"
      ]
     },
     "execution_count": 18,
     "metadata": {},
     "output_type": "execute_result"
    }
   ],
   "source": [
    "2**2**1"
   ]
  },
  {
   "cell_type": "code",
   "execution_count": 19,
   "id": "2390a57b-2431-4c01-b1aa-dc9ecbcf03f6",
   "metadata": {},
   "outputs": [
    {
     "data": {
      "text/plain": [
       "16"
      ]
     },
     "execution_count": 19,
     "metadata": {},
     "output_type": "execute_result"
    }
   ],
   "source": [
    "2**2**2"
   ]
  },
  {
   "cell_type": "code",
   "execution_count": 21,
   "id": "987e44b4-6763-49c9-a85d-a74c716cdb8e",
   "metadata": {},
   "outputs": [
    {
     "data": {
      "text/plain": [
       "256"
      ]
     },
     "execution_count": 21,
     "metadata": {},
     "output_type": "execute_result"
    }
   ],
   "source": [
    "2**2**3"
   ]
  },
  {
   "cell_type": "code",
   "execution_count": 22,
   "id": "ba1164d0-bc4f-4288-8ab7-88321f7214fa",
   "metadata": {},
   "outputs": [
    {
     "data": {
      "text/plain": [
       "65536"
      ]
     },
     "execution_count": 22,
     "metadata": {},
     "output_type": "execute_result"
    }
   ],
   "source": [
    "2**2**4"
   ]
  },
  {
   "cell_type": "code",
   "execution_count": null,
   "id": "31ea69d1-c78a-48eb-afac-216da2a08ddb",
   "metadata": {},
   "outputs": [],
   "source": []
  },
  {
   "cell_type": "code",
   "execution_count": null,
   "id": "25192cae-c103-4182-a011-14ba58a9bd13",
   "metadata": {},
   "outputs": [],
   "source": []
  },
  {
   "cell_type": "code",
   "execution_count": null,
   "id": "f79b5e47-ddc2-4759-a10b-1422beab540b",
   "metadata": {},
   "outputs": [],
   "source": []
  },
  {
   "cell_type": "code",
   "execution_count": null,
   "id": "c5c0bac4-0caa-4335-b080-ad3448908586",
   "metadata": {},
   "outputs": [],
   "source": []
  },
  {
   "cell_type": "code",
   "execution_count": null,
   "id": "1be31533-8491-40e3-b8ba-de79e77625bb",
   "metadata": {},
   "outputs": [],
   "source": []
  },
  {
   "cell_type": "code",
   "execution_count": null,
   "id": "85a0d5cf-8641-4736-963f-2830aa2fae83",
   "metadata": {},
   "outputs": [],
   "source": []
  }
 ],
 "metadata": {
  "kernelspec": {
   "display_name": "Python 3",
   "language": "python",
   "name": "python3"
  },
  "language_info": {
   "codemirror_mode": {
    "name": "ipython",
    "version": 3
   },
   "file_extension": ".py",
   "mimetype": "text/x-python",
   "name": "python",
   "nbconvert_exporter": "python",
   "pygments_lexer": "ipython3",
   "version": "3.8.8"
  }
 },
 "nbformat": 4,
 "nbformat_minor": 5
}
