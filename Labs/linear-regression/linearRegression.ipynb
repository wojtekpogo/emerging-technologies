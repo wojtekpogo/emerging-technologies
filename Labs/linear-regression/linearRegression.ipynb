{
 "cells": [
  {
   "cell_type": "markdown",
   "id": "9bb1a708-ac44-4b90-9a65-cf2cf2373454",
   "metadata": {},
   "source": [
    "# Linear Regression with NumPy\n",
    "***"
   ]
  },
  {
   "cell_type": "code",
   "execution_count": 2,
   "id": "6eb62c58-07c2-400a-a5a5-a683bab07b3e",
   "metadata": {},
   "outputs": [],
   "source": [
    "# Import matplotlib.\n",
    "import matplotlib.pyplot as plt"
   ]
  },
  {
   "cell_type": "code",
   "execution_count": 3,
   "id": "e2bc9f14-ddc5-4ca2-8046-8ea7f037bb3a",
   "metadata": {},
   "outputs": [
    {
     "data": {
      "image/png": "[encoded data removed]",
      "text/plain": [
       "<Figure size 432x288 with 1 Axes>"
      ]
     },
     "metadata": {
      "needs_background": "light"
     },
     "output_type": "display_data"
    }
   ],
   "source": [
    "# Draw some axes.\n",
    "plt.plot([-1, 10], [0, 0], 'k-')\n",
    "plt.plot([0, 0], [-1, 10], 'k-')\n",
    "\n",
    "# Plot the red, blue and green lines.\n",
    "plt.plot([1, 1], [-1, 3], 'b:')\n",
    "plt.plot([-1, 1], [3, 3], 'r:')\n",
    "\n",
    "# Plot the two points (1,3) and (2,5).\n",
    "plt.plot([1, 2], [3, 5], 'ko')\n",
    "# Join them with an (extending) green lines.\n",
    "plt.plot([-1, 10], [-1, 21], 'g-')\n",
    "\n",
    "# Set some reasonable plot limits.\n",
    "plt.xlim([-1, 10])\n",
    "plt.ylim([-1, 10])\n",
    "\n",
    "# Show the plot.\n",
    "plt.show()"
   ]
  },
  {
   "cell_type": "markdown",
   "id": "1a576bac-bf94-47bb-b2a9-ec3ecd13f592",
   "metadata": {},
   "source": [
    "*Simple linear regression is about the opposite problem - what if you have some points and are looking for the equation? It's easy when the points are perfectly on a line already, but usually real-world data has some noise. The data might still look roughly linear, but aren't exactly so.*"
   ]
  },
  {
   "cell_type": "markdown",
   "id": "3ecbeb4d-a1e9-4363-a723-6e3ce7b1b131",
   "metadata": {},
   "source": [
    "## Example (contrived and simulated)"
   ]
  },
  {
   "cell_type": "markdown",
   "id": "fa7d0a30-a4e6-414e-8e3d-5eebedce7693",
   "metadata": {},
   "source": [
    "![title](img.png)"
   ]
  },
  {
   "cell_type": "markdown",
   "id": "6d02ab47-3923-463e-ba5f-5eebcb424a6f",
   "metadata": {},
   "source": [
    "**Scenario**"
   ]
  },
  {
   "cell_type": "markdown",
   "id": "b9a01b7b-3c76-47c9-94dd-acdd6c7f52b4",
   "metadata": {},
   "source": [
    "Suppose you are trying to weigh your suitcase to avoid an airline's extra charges. You don't have a weighing scales, but you do have a spring and some gym-style weights of masses 7KG, 14KG and 21KG. You attach the spring to the wall hook, and mark where the bottom of it hangs. You then hang the 7KG weight on the end and mark where the bottom of the spring is. You repeat this with the 14KG weight and the 21KG weight. Finally, you place your case hanging on the spring, and the spring hangs down halfway between the 7KG mark and the 14KG mark. Is your case over the 10KG limit set by the airline?"
   ]
  },
  {
   "cell_type": "markdown",
   "id": "beaef33a-f22a-4de8-9ab8-be7788e5fa59",
   "metadata": {},
   "source": [
    "**Hypothesis**"
   ]
  },
  {
   "cell_type": "markdown",
   "id": "77f96d06-23bf-4a0b-ab8e-2baf8c224f15",
   "metadata": {},
   "source": [
    "When you look at the marks on the wall, it seems that the 0KG, 7KG, 14KG and 21KG marks are evenly spaced. You wonder if that means your case weighs 10.5KG. That is, you wonder if there is a linear relationship between the distance the spring's hook is from its resting position, and the mass on the end of it."
   ]
  },
  {
   "cell_type": "markdown",
   "id": "32d3d3ea-26a8-4267-ac6e-c05ba6d42a24",
   "metadata": {},
   "source": [
    "**Experiment**"
   ]
  },
  {
   "cell_type": "markdown",
   "id": "d2bc375b-2f71-4e82-94e2-acfc0620d1e7",
   "metadata": {},
   "source": [
    "You decide to experiment. You buy some new weights - a 1KG, a 2KG, a 3Kg, all the way up to 20KG. You place them each in turn on the spring and measure the distance the spring moves from the resting position. You tabulate the data and plot them."
   ]
  },
  {
   "cell_type": "markdown",
   "id": "a02949f5-aaeb-4a57-b018-bf06614c9322",
   "metadata": {},
   "source": [
    "**Analysis**"
   ]
  },
  {
   "cell_type": "markdown",
   "id": "4412a120-e6df-4894-9b7b-a7c15f3ebfd9",
   "metadata": {},
   "source": [
    "Here we'll import the Python libraries we need for or investigations below."
   ]
  },
  {
   "cell_type": "code",
   "execution_count": 5,
   "id": "56c37c75-e667-46f8-a513-f58c70ce9951",
   "metadata": {},
   "outputs": [],
   "source": [
    "# numpy efficiently deals with numerical multi-dimensional arrays.\n",
    "import numpy as np\n",
    "\n",
    "# matplotlib is a plotting library, and pyplot is its easy-to-use module.\n",
    "import matplotlib.pyplot as plt\n",
    "\n",
    "# This just sets the default plot size to be bigger.\n",
    "plt.rcParams['figure.figsize'] = (8, 6)"
   ]
  },
  {
   "cell_type": "code",
   "execution_count": 6,
   "id": "c9d060e1-85d5-4715-a7b4-2aef20209280",
   "metadata": {},
   "outputs": [],
   "source": [
    "w = np.arange(0.0, 21.0, 1.0)\n",
    "d = 5.0 * w + 10.0 + np.random.normal(0.0, 5.0, w.size)"
   ]
  },
  {
   "cell_type": "code",
   "execution_count": 7,
   "id": "e2eba359-4a24-460e-9a97-3a1f02f3232a",
   "metadata": {},
   "outputs": [
    {
     "data": {
      "text/plain": [
       "array([ 0.,  1.,  2.,  3.,  4.,  5.,  6.,  7.,  8.,  9., 10., 11., 12.,\n",
       "       13., 14., 15., 16., 17., 18., 19., 20.])"
      ]
     },
     "execution_count": 7,
     "metadata": {},
     "output_type": "execute_result"
    }
   ],
   "source": [
    "w #weights from 0-20"
   ]
  },
  {
   "cell_type": "code",
   "execution_count": 10,
   "id": "6371f5f3-6b09-49ab-bf9f-c178205c4151",
   "metadata": {},
   "outputs": [
    {
     "data": {
      "text/plain": [
       "array([  9.06754531,   9.44425292,  15.46849273,  18.40296434,\n",
       "        25.19029135,  25.40625087,  41.35846435,  37.25768251,\n",
       "        50.69473227,  49.01142026,  67.59773215,  69.81755033,\n",
       "        65.54723821,  69.10056462,  79.54838897,  85.5122689 ,\n",
       "        88.78627566,  99.32729784, 100.56290852, 111.92220169,\n",
       "       107.84663655])"
      ]
     },
     "execution_count": 10,
     "metadata": {},
     "output_type": "execute_result"
    }
   ],
   "source": [
    "d #distance of spring"
   ]
  },
  {
   "cell_type": "code",
   "execution_count": 9,
   "id": "2b094b61-a3ef-479c-802e-442349219f06",
   "metadata": {},
   "outputs": [
    {
     "data": {
      "image/png": "[encoded data removed]",
      "text/plain": [
       "<Figure size 576x432 with 1 Axes>"
      ]
     },
     "metadata": {
      "needs_background": "light"
     },
     "output_type": "display_data"
    }
   ],
   "source": [
    "# Create the plot.\n",
    "\n",
    "plt.plot(w, d, 'k.')\n",
    "\n",
    "# Set some properties for the plot.\n",
    "plt.xlabel('Weight (KG)')\n",
    "plt.ylabel('Distance (CM)')\n",
    "\n",
    "# Show the plot.\n",
    "plt.show()"
   ]
  },
  {
   "cell_type": "markdown",
   "id": "f075c20f-5fb7-4b6f-a93c-cf9062b8815b",
   "metadata": {},
   "source": [
    "**Model**"
   ]
  },
  {
   "cell_type": "markdown",
   "id": "98bef85e-b518-4f27-8dcc-b68a87856935",
   "metadata": {},
   "source": [
    "It looks like the data might indeed be linear. The points don't exactly fit on a straight line, but they are not far off it. We might put that down to some other factors, such as the air density, or errors, such as in our tape measure. Then we can go ahead and see what would be the best line to fit the data."
   ]
  },
  {
   "cell_type": "markdown",
   "id": "5fcdd79f-78c4-427f-96f2-05879331a948",
   "metadata": {},
   "source": [
    "**Straight Lines**"
   ]
  },
  {
   "cell_type": "markdown",
   "id": "466ff141-8480-44a4-8a70-506c5dcaa377",
   "metadata": {},
   "source": [
    "All straight lines can be expressed in the form $y=mx+c$. The number m is the slope of the line. The slope is how much ${y}$ increases by when ${x}$ is increased by 1.0. The number c is the y-intercept of the line. It's the value of ${y}$ when ${x}$ is 0."
   ]
  },
  {
   "cell_type": "markdown",
   "id": "8f3dedaa-ae78-44de-bdcb-52ed6a6cb70a",
   "metadata": {},
   "source": [
    "**Fitting the model**"
   ]
  },
  {
   "cell_type": "markdown",
   "id": "f07add32-290b-4645-b498-dbef43268132",
   "metadata": {},
   "source": [
    "To fit a straight line to the data, we just must pick values for ${m}$ and ${c}$. These are called the parameters of the model, and we want to pick the best values possible for the parameters. That is, the best parameter values given the data observed. Below we show various lines plotted over the data, with different values for ${m}$ and ${c}$."
   ]
  },
  {
   "cell_type": "code",
   "execution_count": 11,
   "id": "0c941e6f-dcae-4b99-9f01-2fab36618159",
   "metadata": {},
   "outputs": [
    {
     "data": {
      "image/png": "[encoded data removed]",
      "text/plain": [
       "<Figure size 576x432 with 1 Axes>"
      ]
     },
     "metadata": {
      "needs_background": "light"
     },
     "output_type": "display_data"
    }
   ],
   "source": [
    "# Plot w versus d with black dots.\n",
    "plt.plot(w, d, 'k.', label=\"Data\")\n",
    "\n",
    "# Overlay some lines on the plot.\n",
    "x = np.arange(0.0, 21.0, 1.0)\n",
    "plt.plot(x, 5.0 * x + 10.0, 'r-', label=r\"$5x + 10$\")\n",
    "plt.plot(x, 6.0 * x +  5.0, 'g-', label=r\"$6x +  5$\")\n",
    "plt.plot(x, 5.0 * x + 15.0, 'b-', label=r\"$5x + 15$\")\n",
    "\n",
    "# Add a legend.\n",
    "plt.legend()\n",
    "\n",
    "# Add axis labels.\n",
    "plt.xlabel('Weight (KG)')\n",
    "plt.ylabel('Distance (CM)')\n",
    "\n",
    "# Show the plot.\n",
    "plt.show()"
   ]
  },
  {
   "cell_type": "markdown",
   "id": "fb089be7-f5d9-4cfd-a080-e23266b6c48e",
   "metadata": {},
   "source": [
    "**Calculating the cost**"
   ]
  },
  {
   "cell_type": "markdown",
   "id": "94e9682b-151a-49bd-ac94-efb6dda6e58c",
   "metadata": {},
   "source": [
    "You can see that each of these lines roughly fits the data. Which one is best, and is there another line that is better than all three? Is there a \"best\" line?\n",
    "\n",
    "It depends how you define the word best. Luckily, everyone seems to have settled on what the best means. The best line is the one that minimises the following calculated value."
   ]
  },
  {
   "cell_type": "markdown",
   "id": "12df5800-bce9-43fe-8eee-7fccfbbb8dae",
   "metadata": {},
   "source": [
    "$\\sum_i (y_i - mx_i - c)^2$"
   ]
  },
  {
   "cell_type": "markdown",
   "id": "4a7e1d93-f020-4b8f-8dc9-67e7e2cfde3a",
   "metadata": {},
   "source": [
    "Here $(x_i, y_i)$ is the $i^{th}$ point in the data set and $\\sum_i$ means to sum over all points. The values of ${m}$ and ${c}$ are to be determined. We usually denote the above as $Cost(m,c)$.\n",
    "\n",
    "Where does the above calculation come from? It's easy to explain the part in the brackets $(y_i - mx_i - c)$. The corresponding value to $x_i$ in the dataset is $y_i$ . These are the measured values. The value $m x_i + c$ is what the model says $y_i$ should have been. The difference between the value that was observed $y_i$ and the value that the model gives $m x_i + c$, is $y_i - mx_i - c$.\n",
    "\n",
    "Why square that value? Well note that the value could be positive or negative, and you sum over all of these values. If we allow the values to be positive or negative, then the positive could cancel the negatives. So, the natural thing to do is to take the absolute value $\\mid y_i - m x_i - c \\mid$. Well it turns out that absolute values are a pain to deal with, and instead it was decided to just square the quantity instead, as the square of a number is always positive. There are pros and cons to using the square instead of the absolute value, but the square is used. This is usually called *least squares fitting*."
   ]
  },
  {
   "cell_type": "code",
   "execution_count": 13,
   "id": "fd13c3cb-0207-4808-972d-2acf426c5d3a",
   "metadata": {},
   "outputs": [
    {
     "name": "stdout",
     "output_type": "stream",
     "text": [
      "Cost with m =  5.00 and c = 10.00:   518.20\n",
      "Cost with m =  6.00 and c =  5.00:  1568.04\n",
      "Cost with m =  5.00 and c = 15.00:  1374.49\n"
     ]
    }
   ],
   "source": [
    "# Calculate the cost of the lines above for the data above.\n",
    "cost = lambda m,c: np.sum([(d[i] - m * w[i] - c)**2 for i in range(w.size)])\n",
    "\n",
    "print(\"Cost with m = %5.2f and c = %5.2f: %8.2f\" % (5.0, 10.0, cost(5.0, 10.0)))\n",
    "print(\"Cost with m = %5.2f and c = %5.2f: %8.2f\" % (6.0,  5.0, cost(6.0,  5.0)))\n",
    "print(\"Cost with m = %5.2f and c = %5.2f: %8.2f\" % (5.0,  15.0, cost(5.0,  15.0)))"
   ]
  },
  {
   "cell_type": "markdown",
   "id": "a463c9fe-6e1c-4927-a14e-38303fe9aa09",
   "metadata": {},
   "source": [
    "**Minimizing the cost**"
   ]
  },
  {
   "cell_type": "markdown",
   "id": "404db8be-c57a-4a23-b4ed-8345627fa994",
   "metadata": {},
   "source": [
    "We want to calculate values of ${m}$ and ${c}$ that give the lowest value for the cost value above. For our given data set we can plot the cost value/function. Recall that the cost is:"
   ]
  },
  {
   "cell_type": "markdown",
   "id": "cbba6987-c886-4c61-af3f-4033c816a677",
   "metadata": {},
   "source": [
    "**$Cost(m, c) = \\sum_i (y_i - mx_i - c)^2$**"
   ]
  },
  {
   "cell_type": "markdown",
   "id": "4535b623-6012-4c1e-b3ba-5d61219708d0",
   "metadata": {},
   "source": [
    "This is a function of two variables, ${m}$ and ${c}$, so a plot of it is three dimensional."
   ]
  },
  {
   "cell_type": "markdown",
   "id": "a0b9e70f-b9b2-4538-90a6-c737037c90d1",
   "metadata": {},
   "source": [
    "In the case of fitting a two-dimensional line to a few data points, we can easily calculate exactly the best values of ${m}$ and ${c}$. Some of the details are discussed in the Advanced section, as they involve calculus, but the resulting code is straight-forward. We first calculate the mean (average) values of our x values and that of our y values. Then we subtract the mean of ${x}$ from each of the ${x}$ values, and the mean of ${y}$ from each of the ${y}$ values. Then we take the dot product of the new ${x}$ values and the new ${y}$ values and divide it by the dot product of the new x values with themselves. That gives us ${m}$, and we use ${m}$ to calculate ${c}$"
   ]
  },
  {
   "cell_type": "markdown",
   "id": "3d406c04-9f45-4e1c-85cd-b92bd7699ed8",
   "metadata": {},
   "source": [
    "Remember that in our dataset ${x}$ is called ${w}$ (for weight) and ${y}$ is called ${d}$ (for distance). We calculate ${m}$ and ${c}$ below."
   ]
  },
  {
   "cell_type": "code",
   "execution_count": 14,
   "id": "ce891464-7b5f-48ee-a0c2-8ccf8290c92e",
   "metadata": {},
   "outputs": [
    {
     "name": "stdout",
     "output_type": "stream",
     "text": [
      "m is 5.374316 and c is 4.679273.\n"
     ]
    }
   ],
   "source": [
    "# Calculate the best values for m and c.\n",
    "\n",
    "# First calculate the means (a.k.a. averages) of w and d.\n",
    "w_avg = np.mean(w)\n",
    "d_avg = np.mean(d)\n",
    "\n",
    "# Subtract means from w and d.\n",
    "w_zero = w - w_avg\n",
    "d_zero = d - d_avg\n",
    "\n",
    "# The best m is found by the following calculation.\n",
    "m = np.sum(w_zero * d_zero) / np.sum(w_zero * w_zero)\n",
    "# Use m from above to calculate the best c.\n",
    "c = d_avg - m * w_avg\n",
    "\n",
    "print(\"m is %8.6f and c is %6.6f.\" % (m, c))"
   ]
  },
  {
   "cell_type": "markdown",
   "id": "8a2dd467-3412-412d-a896-4ca3f0433b24",
   "metadata": {},
   "source": [
    "*Note that numpy has a function that will perform this calculation for us, called polyfit. It can be used to fit lines in many dimensions.*"
   ]
  },
  {
   "cell_type": "code",
   "execution_count": 16,
   "id": "84f90d3c-96ba-4f3e-98de-30393bc9862e",
   "metadata": {},
   "outputs": [
    {
     "data": {
      "text/plain": [
       "array([5.37431636, 4.67927264])"
      ]
     },
     "execution_count": 16,
     "metadata": {},
     "output_type": "execute_result"
    }
   ],
   "source": [
    "np.polyfit(w, d, 1)"
   ]
  },
  {
   "cell_type": "markdown",
   "id": "12744c8d-cdeb-4bdc-a736-45fd62de6650",
   "metadata": {},
   "source": [
    "**Best fit line**"
   ]
  },
  {
   "cell_type": "markdown",
   "id": "7aa7c7b7-a035-442a-9a4c-bcc62ba1e95c",
   "metadata": {},
   "source": [
    "So, the best values for ${m}$ and ${c}$ given our data and using least squares fitting are about ${4.95}$ for m and about ${11.13}$ for ${c}$. We plot this line on top of the data below."
   ]
  },
  {
   "cell_type": "code",
   "execution_count": 18,
   "id": "44f42dba-f977-43b4-96b2-8648052c32b6",
   "metadata": {},
   "outputs": [
    {
     "data": {
      "image/png": "[encoded data removed]",
      "text/plain": [
       "<Figure size 576x432 with 1 Axes>"
      ]
     },
     "metadata": {
      "needs_background": "light"
     },
     "output_type": "display_data"
    }
   ],
   "source": [
    "# Plot the best fit line.\n",
    "plt.plot(w, d, 'k.', label='Original data')\n",
    "plt.plot(w, m * w + c, 'b-', label='Best fit line')\n",
    "\n",
    "# Add axis labels and a legend.\n",
    "plt.xlabel('Weight (KG)')\n",
    "plt.ylabel('Distance (CM)')\n",
    "plt.legend()\n",
    "\n",
    "# Show the plot.\n",
    "plt.show()"
   ]
  },
  {
   "cell_type": "markdown",
   "id": "4600973c-5eb9-43ef-86a9-effb645358aa",
   "metadata": {},
   "source": [
    "*Note that the **Cost** of the best ${m}$ and best ${c}$ is not zero in this case.*"
   ]
  },
  {
   "cell_type": "code",
   "execution_count": 19,
   "id": "501ef992-4409-43a4-90d8-3d5f43367c5f",
   "metadata": {},
   "outputs": [
    {
     "name": "stdout",
     "output_type": "stream",
     "text": [
      "Cost with m =  5.37 and c =  4.68:   358.05\n"
     ]
    }
   ],
   "source": [
    "print(\"Cost with m = %5.2f and c = %5.2f: %8.2f\" % (m, c, cost(m, c)))"
   ]
  },
  {
   "cell_type": "markdown",
   "id": "8493b7a2-5901-42f4-a3dc-d2e1d057134c",
   "metadata": {},
   "source": [
    "## Summary"
   ]
  },
  {
   "cell_type": "markdown",
   "id": "11978376-128d-4c15-954f-85f030f2bd67",
   "metadata": {},
   "source": [
    "- Investigated the data.\n",
    "- Picked a model.\n",
    "- Picked a cost function.\n",
    "- Estimated the model parameter values that minimised our cost function."
   ]
  },
  {
   "cell_type": "markdown",
   "id": "af739c1a-6379-446e-9824-459a2733dc39",
   "metadata": {},
   "source": [
    "## Advanced"
   ]
  },
  {
   "cell_type": "code",
   "execution_count": null,
   "id": "95b82b3b-9b91-4b7c-ba56-96d6563703f6",
   "metadata": {},
   "outputs": [],
   "source": []
  },
  {
   "cell_type": "code",
   "execution_count": null,
   "id": "532f307a-7871-4d64-aa6f-0d67604fc41d",
   "metadata": {},
   "outputs": [],
   "source": []
  },
  {
   "cell_type": "code",
   "execution_count": null,
   "id": "e54053b9-5c08-4df0-bac0-a15550d3ec99",
   "metadata": {},
   "outputs": [],
   "source": []
  },
  {
   "cell_type": "markdown",
   "id": "ee2d07ef-9191-4b3e-82bb-85916f339261",
   "metadata": {},
   "source": [
    "***\n",
    "## End"
   ]
  },
  {
   "cell_type": "code",
   "execution_count": null,
   "id": "4b05e0fd-e33f-4969-b871-5b94ba9d723d",
   "metadata": {},
   "outputs": [],
   "source": []
  },
  {
   "cell_type": "code",
   "execution_count": null,
   "id": "8ccce2f8-e96b-444d-a203-093bb90bc0d4",
   "metadata": {},
   "outputs": [],
   "source": []
  },
  {
   "cell_type": "code",
   "execution_count": null,
   "id": "07d5fdb4-df75-46ae-b174-93c4ae17ad84",
   "metadata": {},
   "outputs": [],
   "source": []
  },
  {
   "cell_type": "code",
   "execution_count": null,
   "id": "9e91ccf0-5179-42d3-919c-8bd4d0d90a61",
   "metadata": {},
   "outputs": [],
   "source": []
  },
  {
   "cell_type": "code",
   "execution_count": null,
   "id": "0231da5a-b98a-4150-b130-8b164002e39d",
   "metadata": {},
   "outputs": [],
   "source": []
  },
  {
   "cell_type": "code",
   "execution_count": null,
   "id": "4dc6274f-aba4-406f-9389-a57f46e8fc0b",
   "metadata": {},
   "outputs": [],
   "source": []
  },
  {
   "cell_type": "code",
   "execution_count": null,
   "id": "e5518ee9-33ed-4c21-b7ed-f52c57d1cfdd",
   "metadata": {},
   "outputs": [],
   "source": []
  },
  {
   "cell_type": "code",
   "execution_count": null,
   "id": "cc8d873b-51c7-470f-aaab-80f21cb3d6ff",
   "metadata": {},
   "outputs": [],
   "source": []
  },
  {
   "cell_type": "code",
   "execution_count": null,
   "id": "88f8c04b-fb9b-44af-af40-c3d2f06ba54a",
   "metadata": {},
   "outputs": [],
   "source": []
  },
  {
   "cell_type": "code",
   "execution_count": null,
   "id": "24711a14-4008-458c-ab61-56d0e5bbb7e7",
   "metadata": {},
   "outputs": [],
   "source": []
  },
  {
   "cell_type": "code",
   "execution_count": null,
   "id": "0f607aa1-2f50-4e13-b0c4-04773f63d5fb",
   "metadata": {},
   "outputs": [],
   "source": []
  },
  {
   "cell_type": "code",
   "execution_count": null,
   "id": "8f132f97-d0ed-411b-a13c-1418eece2472",
   "metadata": {},
   "outputs": [],
   "source": []
  },
  {
   "cell_type": "code",
   "execution_count": null,
   "id": "1f4ee868-d792-4cb5-afc3-d26d4c7afaee",
   "metadata": {},
   "outputs": [],
   "source": []
  },
  {
   "cell_type": "code",
   "execution_count": null,
   "id": "ad3bc24f-c436-433c-85a1-4ebb3b7b777e",
   "metadata": {},
   "outputs": [],
   "source": []
  },
  {
   "cell_type": "code",
   "execution_count": null,
   "id": "1397c408-964e-4578-8d84-1b33f90fafd9",
   "metadata": {},
   "outputs": [],
   "source": []
  },
  {
   "cell_type": "code",
   "execution_count": null,
   "id": "85b2f50b-eeb8-4506-9741-129a704ffee3",
   "metadata": {},
   "outputs": [],
   "source": []
  }
 ],
 "metadata": {
  "kernelspec": {
   "display_name": "Python 3",
   "language": "python",
   "name": "python3"
  },
  "language_info": {
   "codemirror_mode": {
    "name": "ipython",
    "version": 3
   },
   "file_extension": ".py",
   "mimetype": "text/x-python",
   "name": "python",
   "nbconvert_exporter": "python",
   "pygments_lexer": "ipython3",
   "version": "3.8.8"
  }
 },
 "nbformat": 4,
 "nbformat_minor": 5
}
