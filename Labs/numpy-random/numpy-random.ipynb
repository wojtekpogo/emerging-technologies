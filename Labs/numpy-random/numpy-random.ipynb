{
 "cells": [
  {
   "cell_type": "markdown",
   "id": "330373fd-5efe-45a6-ae72-ae4e470f6709",
   "metadata": {},
   "source": [
    "# The numpy Random Package\n",
    "\n",
    "[Official documentation](https://numpy.org/doc/stable/reference/random/index.html)\n",
    "\n",
    "***"
   ]
  },
  {
   "cell_type": "code",
   "execution_count": 1,
   "id": "05382cb7-2eca-4f74-ae9c-100006c2badb",
   "metadata": {},
   "outputs": [],
   "source": [
    "# Efficient numercial arrays\n",
    "import numpy as np\n",
    "#Plotting\n",
    "import matplotlib.pyplot as plt\n",
    "\n",
    "# Change default style sheet\n",
    "plt.style.use('fivethirtyeight')\n",
    "\n",
    "#Change the default figure size.\n",
    "plt.rcParams['figure.figsize'] = [10, 5]\n",
    "\n",
    "\n"
   ]
  },
  {
   "cell_type": "markdown",
   "id": "517bcf20-02e5-4075-944d-1c13a5cac6cb",
   "metadata": {},
   "source": [
    "\n",
    "## numpy.random.normal\n",
    "\n",
    "https://numpy.org/doc/stable/reference/random/generated/numpy.random.normal.html\n",
    "\n",
    "***"
   ]
  },
  {
   "cell_type": "code",
   "execution_count": 2,
   "id": "47326912-2c9f-4123-9559-8e1aa47d986c",
   "metadata": {},
   "outputs": [],
   "source": [
    "mu, sigma = 0, 0.1 # mean and standard deviation\n",
    "s = np.random.normal(mu, sigma, 1000)"
   ]
  },
  {
   "cell_type": "code",
   "execution_count": 3,
   "id": "306a2c09-6473-4e4b-ac73-b92c84472264",
   "metadata": {
    "tags": []
   },
   "outputs": [
    {
     "data": {
      "text/plain": [
       "array([ 0.0285227 , -0.14441529, -0.04017934, -0.11831538, -0.13625851,\n",
       "        0.07775414,  0.01658615, -0.08747002, -0.05401266,  0.12029456])"
      ]
     },
     "execution_count": 3,
     "metadata": {},
     "output_type": "execute_result"
    }
   ],
   "source": [
    "# Displays first 10 items.\n",
    "s[:10]"
   ]
  },
  {
   "cell_type": "code",
   "execution_count": 4,
   "id": "ba4e99a1-37b4-4674-bd7a-9afd9c7ced48",
   "metadata": {},
   "outputs": [
    {
     "data": {
      "text/plain": [
       "0.001349614373840364"
      ]
     },
     "execution_count": 4,
     "metadata": {},
     "output_type": "execute_result"
    }
   ],
   "source": [
    "abs(mu - np.mean(s))\n"
   ]
  },
  {
   "cell_type": "code",
   "execution_count": 5,
   "id": "5166c90e-db91-480b-9441-f205d771e8be",
   "metadata": {},
   "outputs": [
    {
     "data": {
      "text/plain": [
       "0.0010159507713189408"
      ]
     },
     "execution_count": 5,
     "metadata": {},
     "output_type": "execute_result"
    }
   ],
   "source": [
    "abs(sigma - np.std(s, ddof=1))"
   ]
  },
  {
   "cell_type": "code",
   "execution_count": 6,
   "id": "95191ffa-9b81-482f-8b93-69050c3a18b3",
   "metadata": {},
   "outputs": [
    {
     "data": {
      "image/png": "[encoded data removed]",
      "text/plain": [
       "<Figure size 720x360 with 1 Axes>"
      ]
     },
     "metadata": {},
     "output_type": "display_data"
    }
   ],
   "source": [
    "count, bins, ignored = plt.hist(s, 30, density=True)\n",
    "f = 1/(sigma * np.sqrt(2 * np.pi)) * np.exp(-(bins-mu)**2/(2 * sigma**2))\n",
    "plt.plot(bins,f, linewidth=2)\n",
    "plt.rcParams['figure.figsize'] = [10, 5]\n",
    "plt.show()"
   ]
  },
  {
   "cell_type": "code",
   "execution_count": null,
   "id": "a45ccbdc-9f45-4b89-813d-d3849b9909cc",
   "metadata": {},
   "outputs": [],
   "source": []
  },
  {
   "cell_type": "code",
   "execution_count": null,
   "id": "4823499c-23ca-4695-a5f3-0375b63e7566",
   "metadata": {},
   "outputs": [],
   "source": []
  },
  {
   "cell_type": "code",
   "execution_count": null,
   "id": "c33cb9f9-b6c2-4b9c-acd3-5f4be9d6d5ca",
   "metadata": {},
   "outputs": [],
   "source": []
  },
  {
   "cell_type": "markdown",
   "id": "21664eda-0c8d-4655-a143-019e61145ce6",
   "metadata": {},
   "source": [
    "## References\n",
    "\n",
    "\n",
    "\n"
   ]
  },
  {
   "cell_type": "markdown",
   "id": "de492b99-9060-49bb-a904-9b777a9412be",
   "metadata": {},
   "source": [
    "[1](https://numpy.org/doc/stable/reference/random/index.html)"
   ]
  },
  {
   "cell_type": "code",
   "execution_count": null,
   "id": "e5cab8ab-130f-404c-a8dc-4986621ba906",
   "metadata": {},
   "outputs": [],
   "source": []
  },
  {
   "cell_type": "code",
   "execution_count": null,
   "id": "312ac042-3471-46c1-847f-f7f6d116247a",
   "metadata": {},
   "outputs": [],
   "source": []
  }
 ],
 "metadata": {
  "kernelspec": {
   "display_name": "Python 3",
   "language": "python",
   "name": "python3"
  },
  "language_info": {
   "codemirror_mode": {
    "name": "ipython",
    "version": 3
   },
   "file_extension": ".py",
   "mimetype": "text/x-python",
   "name": "python",
   "nbconvert_exporter": "python",
   "pygments_lexer": "ipython3",
   "version": "3.8.8"
  }
 },
 "nbformat": 4,
 "nbformat_minor": 5
}
